{
  "nbformat": 4,
  "nbformat_minor": 0,
  "metadata": {
    "colab": {
      "name": "Agriculture_Project.ipynb",
      "provenance": [],
      "collapsed_sections": []
    },
    "kernelspec": {
      "display_name": "Python 3",
      "name": "python3"
    }
  },
  "cells": [
    {
      "cell_type": "markdown",
      "metadata": {
        "id": "Md_xMvzy2qeM"
      },
      "source": [
        "# **AGRICULTURE**"
      ]
    },
    {
      "cell_type": "markdown",
      "metadata": {
        "id": "nWmyf7ScSq4h"
      },
      "source": [
        "# **Problem Statement**\r\n",
        "## The Toxic Pesticides\r\n",
        "\r\n",
        "Though, many of us don't appreciate much, but a farmer's job is real test of endurance and determination. Once the seeds are sown, he works days and nights to make sure that he cultivates a good harvest at the end of season. A good harvest is ensured by several factors such as availability of water, soil fertility, protecting crops from rodents, timely use of pesticides & other useful chemicals and nature. While a lot of these factors are difficult to control for, the amount and frequency of pesticides is something the farmer can control.\r\n",
        "\r\n",
        "Pesticides are also special, because while they protect the crop with the right dosage. But, if you add more than required, they may spoil the entire harvest. A high level of pesticide can deem the crop dead / unsuitable for consumption among many outcomes. This data is based on crops harvested by various farmers at the end of harvest season. To simplify the problem, you can assume that all other factors like variations in farming techniques have been controlled for.\r\n",
        "\r\n",
        "You need to daetermine the outcome of the harvest season, i.e. whether the crop would be healthy (alive), damaged by pesticides or damaged by other reasons.\r\n"
      ]
    },
    {
      "cell_type": "code",
      "metadata": {
        "id": "OMbzo4jBqw7q"
      },
      "source": [
        "import pandas as pd\r\n",
        "import numpy as np\r\n",
        "import seaborn as sns\r\n",
        "import matplotlib.pyplot as plt\r\n",
        "import warnings\r\n",
        "warnings.filterwarnings('ignore')"
      ],
      "execution_count": null,
      "outputs": []
    },
    {
      "cell_type": "code",
      "metadata": {
        "colab": {
          "resources": {
            "http://localhost:8080/nbextensions/google.colab/files.js": {
              "data": "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",
              "ok": true,
              "headers": [
                [
                  "content-type",
                  "application/javascript"
                ]
              ],
              "status": 200,
              "status_text": ""
            }
          },
          "base_uri": "https://localhost:8080/",
          "height": 72
        },
        "id": "VAmgqos4q9Xz",
        "outputId": "5f170304-721e-4b63-a235-fa24c238b345"
      },
      "source": [
        "from google.colab import files\r\n",
        "uploaded = files.upload()"
      ],
      "execution_count": null,
      "outputs": [
        {
          "output_type": "display_data",
          "data": {
            "text/html": [
              "\n",
              "     <input type=\"file\" id=\"files-b6da04c3-2dac-4cd0-a345-ee07b4df6213\" name=\"files[]\" multiple disabled\n",
              "        style=\"border:none\" />\n",
              "     <output id=\"result-b6da04c3-2dac-4cd0-a345-ee07b4df6213\">\n",
              "      Upload widget is only available when the cell has been executed in the\n",
              "      current browser session. Please rerun this cell to enable.\n",
              "      </output>\n",
              "      <script src=\"/nbextensions/google.colab/files.js\"></script> "
            ],
            "text/plain": [
              "<IPython.core.display.HTML object>"
            ]
          },
          "metadata": {
            "tags": []
          }
        },
        {
          "output_type": "stream",
          "text": [
            "Saving Trainagriculture.csv to Trainagriculture (1).csv\n"
          ],
          "name": "stdout"
        }
      ]
    },
    {
      "cell_type": "code",
      "metadata": {
        "id": "ku1reK_VrD7h"
      },
      "source": [
        "import io\r\n",
        "ag= pd.read_csv(io.BytesIO(uploaded['Trainagriculture.csv']))"
      ],
      "execution_count": null,
      "outputs": []
    },
    {
      "cell_type": "code",
      "metadata": {
        "colab": {
          "base_uri": "https://localhost:8080/",
          "height": 439
        },
        "id": "Fud98dbUrcM8",
        "outputId": "c77b7ed3-72ed-44da-d265-d3e56fb94ed4"
      },
      "source": [
        "ag"
      ],
      "execution_count": null,
      "outputs": [
        {
          "output_type": "execute_result",
          "data": {
            "text/html": [
              "<div>\n",
              "<style scoped>\n",
              "    .dataframe tbody tr th:only-of-type {\n",
              "        vertical-align: middle;\n",
              "    }\n",
              "\n",
              "    .dataframe tbody tr th {\n",
              "        vertical-align: top;\n",
              "    }\n",
              "\n",
              "    .dataframe thead th {\n",
              "        text-align: right;\n",
              "    }\n",
              "</style>\n",
              "<table border=\"1\" class=\"dataframe\">\n",
              "  <thead>\n",
              "    <tr style=\"text-align: right;\">\n",
              "      <th></th>\n",
              "      <th>ID</th>\n",
              "      <th>Estimated_Insects_Count</th>\n",
              "      <th>Crop_Type</th>\n",
              "      <th>Soil_Type</th>\n",
              "      <th>Pesticide_Use_Category</th>\n",
              "      <th>Number_Doses_Week</th>\n",
              "      <th>Number_Weeks_Used</th>\n",
              "      <th>Number_Weeks_Quit</th>\n",
              "      <th>Season</th>\n",
              "      <th>Crop_Damage</th>\n",
              "    </tr>\n",
              "  </thead>\n",
              "  <tbody>\n",
              "    <tr>\n",
              "      <th>0</th>\n",
              "      <td>F00000001</td>\n",
              "      <td>188</td>\n",
              "      <td>1</td>\n",
              "      <td>0</td>\n",
              "      <td>1</td>\n",
              "      <td>0</td>\n",
              "      <td>0.0</td>\n",
              "      <td>0</td>\n",
              "      <td>1</td>\n",
              "      <td>0</td>\n",
              "    </tr>\n",
              "    <tr>\n",
              "      <th>1</th>\n",
              "      <td>F00000003</td>\n",
              "      <td>209</td>\n",
              "      <td>1</td>\n",
              "      <td>0</td>\n",
              "      <td>1</td>\n",
              "      <td>0</td>\n",
              "      <td>0.0</td>\n",
              "      <td>0</td>\n",
              "      <td>2</td>\n",
              "      <td>1</td>\n",
              "    </tr>\n",
              "    <tr>\n",
              "      <th>2</th>\n",
              "      <td>F00000004</td>\n",
              "      <td>257</td>\n",
              "      <td>1</td>\n",
              "      <td>0</td>\n",
              "      <td>1</td>\n",
              "      <td>0</td>\n",
              "      <td>0.0</td>\n",
              "      <td>0</td>\n",
              "      <td>2</td>\n",
              "      <td>1</td>\n",
              "    </tr>\n",
              "    <tr>\n",
              "      <th>3</th>\n",
              "      <td>F00000005</td>\n",
              "      <td>257</td>\n",
              "      <td>1</td>\n",
              "      <td>1</td>\n",
              "      <td>1</td>\n",
              "      <td>0</td>\n",
              "      <td>0.0</td>\n",
              "      <td>0</td>\n",
              "      <td>2</td>\n",
              "      <td>1</td>\n",
              "    </tr>\n",
              "    <tr>\n",
              "      <th>4</th>\n",
              "      <td>F00000006</td>\n",
              "      <td>342</td>\n",
              "      <td>1</td>\n",
              "      <td>0</td>\n",
              "      <td>1</td>\n",
              "      <td>0</td>\n",
              "      <td>0.0</td>\n",
              "      <td>0</td>\n",
              "      <td>2</td>\n",
              "      <td>1</td>\n",
              "    </tr>\n",
              "    <tr>\n",
              "      <th>...</th>\n",
              "      <td>...</td>\n",
              "      <td>...</td>\n",
              "      <td>...</td>\n",
              "      <td>...</td>\n",
              "      <td>...</td>\n",
              "      <td>...</td>\n",
              "      <td>...</td>\n",
              "      <td>...</td>\n",
              "      <td>...</td>\n",
              "      <td>...</td>\n",
              "    </tr>\n",
              "    <tr>\n",
              "      <th>4594</th>\n",
              "      <td>F00008078</td>\n",
              "      <td>2138</td>\n",
              "      <td>0</td>\n",
              "      <td>1</td>\n",
              "      <td>2</td>\n",
              "      <td>20</td>\n",
              "      <td>NaN</td>\n",
              "      <td>1</td>\n",
              "      <td>1</td>\n",
              "      <td>1</td>\n",
              "    </tr>\n",
              "    <tr>\n",
              "      <th>4595</th>\n",
              "      <td>F00008079</td>\n",
              "      <td>2139</td>\n",
              "      <td>0</td>\n",
              "      <td>1</td>\n",
              "      <td>2</td>\n",
              "      <td>30</td>\n",
              "      <td>47.0</td>\n",
              "      <td>2</td>\n",
              "      <td>1</td>\n",
              "      <td>1</td>\n",
              "    </tr>\n",
              "    <tr>\n",
              "      <th>4596</th>\n",
              "      <td>F00008080</td>\n",
              "      <td>2267</td>\n",
              "      <td>0</td>\n",
              "      <td>1</td>\n",
              "      <td>2</td>\n",
              "      <td>10</td>\n",
              "      <td>7.0</td>\n",
              "      <td>27</td>\n",
              "      <td>2</td>\n",
              "      <td>0</td>\n",
              "    </tr>\n",
              "    <tr>\n",
              "      <th>4597</th>\n",
              "      <td>F00008082</td>\n",
              "      <td>2267</td>\n",
              "      <td>0</td>\n",
              "      <td>1</td>\n",
              "      <td>2</td>\n",
              "      <td>10</td>\n",
              "      <td>20.0</td>\n",
              "      <td>24</td>\n",
              "      <td>2</td>\n",
              "      <td>0</td>\n",
              "    </tr>\n",
              "    <tr>\n",
              "      <th>4598</th>\n",
              "      <td>F00008083</td>\n",
              "      <td>2267</td>\n",
              "      <td>0</td>\n",
              "      <td>1</td>\n",
              "      <td>2</td>\n",
              "      <td>10</td>\n",
              "      <td>33.0</td>\n",
              "      <td>17</td>\n",
              "      <td>2</td>\n",
              "      <td>0</td>\n",
              "    </tr>\n",
              "  </tbody>\n",
              "</table>\n",
              "<p>4599 rows × 10 columns</p>\n",
              "</div>"
            ],
            "text/plain": [
              "             ID  Estimated_Insects_Count  ...  Season  Crop_Damage\n",
              "0     F00000001                      188  ...       1            0\n",
              "1     F00000003                      209  ...       2            1\n",
              "2     F00000004                      257  ...       2            1\n",
              "3     F00000005                      257  ...       2            1\n",
              "4     F00000006                      342  ...       2            1\n",
              "...         ...                      ...  ...     ...          ...\n",
              "4594  F00008078                     2138  ...       1            1\n",
              "4595  F00008079                     2139  ...       1            1\n",
              "4596  F00008080                     2267  ...       2            0\n",
              "4597  F00008082                     2267  ...       2            0\n",
              "4598  F00008083                     2267  ...       2            0\n",
              "\n",
              "[4599 rows x 10 columns]"
            ]
          },
          "metadata": {
            "tags": []
          },
          "execution_count": 4
        }
      ]
    },
    {
      "cell_type": "code",
      "metadata": {
        "colab": {
          "base_uri": "https://localhost:8080/",
          "height": 224
        },
        "id": "N2HLF9z7zzda",
        "outputId": "5131b0b4-460b-4604-f0f7-bb1fe6e3259e"
      },
      "source": [
        "ag.head()"
      ],
      "execution_count": null,
      "outputs": [
        {
          "output_type": "execute_result",
          "data": {
            "text/html": [
              "<div>\n",
              "<style scoped>\n",
              "    .dataframe tbody tr th:only-of-type {\n",
              "        vertical-align: middle;\n",
              "    }\n",
              "\n",
              "    .dataframe tbody tr th {\n",
              "        vertical-align: top;\n",
              "    }\n",
              "\n",
              "    .dataframe thead th {\n",
              "        text-align: right;\n",
              "    }\n",
              "</style>\n",
              "<table border=\"1\" class=\"dataframe\">\n",
              "  <thead>\n",
              "    <tr style=\"text-align: right;\">\n",
              "      <th></th>\n",
              "      <th>ID</th>\n",
              "      <th>Estimated_Insects_Count</th>\n",
              "      <th>Crop_Type</th>\n",
              "      <th>Soil_Type</th>\n",
              "      <th>Pesticide_Use_Category</th>\n",
              "      <th>Number_Doses_Week</th>\n",
              "      <th>Number_Weeks_Used</th>\n",
              "      <th>Number_Weeks_Quit</th>\n",
              "      <th>Season</th>\n",
              "      <th>Crop_Damage</th>\n",
              "    </tr>\n",
              "  </thead>\n",
              "  <tbody>\n",
              "    <tr>\n",
              "      <th>0</th>\n",
              "      <td>F00000001</td>\n",
              "      <td>188</td>\n",
              "      <td>1</td>\n",
              "      <td>0</td>\n",
              "      <td>1</td>\n",
              "      <td>0</td>\n",
              "      <td>0.0</td>\n",
              "      <td>0</td>\n",
              "      <td>1</td>\n",
              "      <td>0</td>\n",
              "    </tr>\n",
              "    <tr>\n",
              "      <th>1</th>\n",
              "      <td>F00000003</td>\n",
              "      <td>209</td>\n",
              "      <td>1</td>\n",
              "      <td>0</td>\n",
              "      <td>1</td>\n",
              "      <td>0</td>\n",
              "      <td>0.0</td>\n",
              "      <td>0</td>\n",
              "      <td>2</td>\n",
              "      <td>1</td>\n",
              "    </tr>\n",
              "    <tr>\n",
              "      <th>2</th>\n",
              "      <td>F00000004</td>\n",
              "      <td>257</td>\n",
              "      <td>1</td>\n",
              "      <td>0</td>\n",
              "      <td>1</td>\n",
              "      <td>0</td>\n",
              "      <td>0.0</td>\n",
              "      <td>0</td>\n",
              "      <td>2</td>\n",
              "      <td>1</td>\n",
              "    </tr>\n",
              "    <tr>\n",
              "      <th>3</th>\n",
              "      <td>F00000005</td>\n",
              "      <td>257</td>\n",
              "      <td>1</td>\n",
              "      <td>1</td>\n",
              "      <td>1</td>\n",
              "      <td>0</td>\n",
              "      <td>0.0</td>\n",
              "      <td>0</td>\n",
              "      <td>2</td>\n",
              "      <td>1</td>\n",
              "    </tr>\n",
              "    <tr>\n",
              "      <th>4</th>\n",
              "      <td>F00000006</td>\n",
              "      <td>342</td>\n",
              "      <td>1</td>\n",
              "      <td>0</td>\n",
              "      <td>1</td>\n",
              "      <td>0</td>\n",
              "      <td>0.0</td>\n",
              "      <td>0</td>\n",
              "      <td>2</td>\n",
              "      <td>1</td>\n",
              "    </tr>\n",
              "  </tbody>\n",
              "</table>\n",
              "</div>"
            ],
            "text/plain": [
              "          ID  Estimated_Insects_Count  ...  Season  Crop_Damage\n",
              "0  F00000001                      188  ...       1            0\n",
              "1  F00000003                      209  ...       2            1\n",
              "2  F00000004                      257  ...       2            1\n",
              "3  F00000005                      257  ...       2            1\n",
              "4  F00000006                      342  ...       2            1\n",
              "\n",
              "[5 rows x 10 columns]"
            ]
          },
          "metadata": {
            "tags": []
          },
          "execution_count": 5
        }
      ]
    },
    {
      "cell_type": "code",
      "metadata": {
        "colab": {
          "base_uri": "https://localhost:8080/"
        },
        "id": "H0Yq2mG7z5oh",
        "outputId": "059a15d3-1d58-4a10-8043-8ff6eabe67f2"
      },
      "source": [
        "ag.shape"
      ],
      "execution_count": null,
      "outputs": [
        {
          "output_type": "execute_result",
          "data": {
            "text/plain": [
              "(4599, 10)"
            ]
          },
          "metadata": {
            "tags": []
          },
          "execution_count": 6
        }
      ]
    },
    {
      "cell_type": "code",
      "metadata": {
        "colab": {
          "base_uri": "https://localhost:8080/"
        },
        "id": "NDLTo5AAz9vk",
        "outputId": "b92731cc-a179-4d51-db09-1d86c7f8eced"
      },
      "source": [
        "ag.info()"
      ],
      "execution_count": null,
      "outputs": [
        {
          "output_type": "stream",
          "text": [
            "<class 'pandas.core.frame.DataFrame'>\n",
            "RangeIndex: 4599 entries, 0 to 4598\n",
            "Data columns (total 10 columns):\n",
            " #   Column                   Non-Null Count  Dtype  \n",
            "---  ------                   --------------  -----  \n",
            " 0   ID                       4599 non-null   object \n",
            " 1   Estimated_Insects_Count  4599 non-null   int64  \n",
            " 2   Crop_Type                4599 non-null   int64  \n",
            " 3   Soil_Type                4599 non-null   int64  \n",
            " 4   Pesticide_Use_Category   4599 non-null   int64  \n",
            " 5   Number_Doses_Week        4599 non-null   int64  \n",
            " 6   Number_Weeks_Used        4157 non-null   float64\n",
            " 7   Number_Weeks_Quit        4599 non-null   int64  \n",
            " 8   Season                   4599 non-null   int64  \n",
            " 9   Crop_Damage              4599 non-null   int64  \n",
            "dtypes: float64(1), int64(8), object(1)\n",
            "memory usage: 359.4+ KB\n"
          ],
          "name": "stdout"
        }
      ]
    },
    {
      "cell_type": "code",
      "metadata": {
        "colab": {
          "base_uri": "https://localhost:8080/"
        },
        "id": "KY6_vbjg0IMr",
        "outputId": "ebb0b1af-4787-4f21-d5b3-bc04a826d8ec"
      },
      "source": [
        "ag.isnull().sum()"
      ],
      "execution_count": null,
      "outputs": [
        {
          "output_type": "execute_result",
          "data": {
            "text/plain": [
              "ID                           0\n",
              "Estimated_Insects_Count      0\n",
              "Crop_Type                    0\n",
              "Soil_Type                    0\n",
              "Pesticide_Use_Category       0\n",
              "Number_Doses_Week            0\n",
              "Number_Weeks_Used          442\n",
              "Number_Weeks_Quit            0\n",
              "Season                       0\n",
              "Crop_Damage                  0\n",
              "dtype: int64"
            ]
          },
          "metadata": {
            "tags": []
          },
          "execution_count": 8
        }
      ]
    },
    {
      "cell_type": "code",
      "metadata": {
        "colab": {
          "base_uri": "https://localhost:8080/",
          "height": 401
        },
        "id": "VSN218Ny02i8",
        "outputId": "4c492f4a-8d93-49a4-f2ca-b20565d25034"
      },
      "source": [
        "sns.heatmap(ag.isnull())"
      ],
      "execution_count": null,
      "outputs": [
        {
          "output_type": "execute_result",
          "data": {
            "text/plain": [
              "<matplotlib.axes._subplots.AxesSubplot at 0x7fb67e74b860>"
            ]
          },
          "metadata": {
            "tags": []
          },
          "execution_count": 9
        },
        {
          "output_type": "display_data",
          "data": {
            "image/png": "[encoded data removed]",
            "text/plain": [
              "<Figure size 432x288 with 2 Axes>"
            ]
          },
          "metadata": {
            "tags": [],
            "needs_background": "light"
          }
        }
      ]
    },
    {
      "cell_type": "code",
      "metadata": {
        "id": "nQ9qFbfG0SHu"
      },
      "source": [
        "ag['Number_Weeks_Used'] = ag['Number_Weeks_Used'].replace(np.nan, 0)"
      ],
      "execution_count": null,
      "outputs": []
    },
    {
      "cell_type": "code",
      "metadata": {
        "colab": {
          "base_uri": "https://localhost:8080/",
          "height": 439
        },
        "id": "_tl7V2cK1DvC",
        "outputId": "24cf5692-b6ab-440a-92bd-bfb2699f5416"
      },
      "source": [
        "ag"
      ],
      "execution_count": null,
      "outputs": [
        {
          "output_type": "execute_result",
          "data": {
            "text/html": [
              "<div>\n",
              "<style scoped>\n",
              "    .dataframe tbody tr th:only-of-type {\n",
              "        vertical-align: middle;\n",
              "    }\n",
              "\n",
              "    .dataframe tbody tr th {\n",
              "        vertical-align: top;\n",
              "    }\n",
              "\n",
              "    .dataframe thead th {\n",
              "        text-align: right;\n",
              "    }\n",
              "</style>\n",
              "<table border=\"1\" class=\"dataframe\">\n",
              "  <thead>\n",
              "    <tr style=\"text-align: right;\">\n",
              "      <th></th>\n",
              "      <th>ID</th>\n",
              "      <th>Estimated_Insects_Count</th>\n",
              "      <th>Crop_Type</th>\n",
              "      <th>Soil_Type</th>\n",
              "      <th>Pesticide_Use_Category</th>\n",
              "      <th>Number_Doses_Week</th>\n",
              "      <th>Number_Weeks_Used</th>\n",
              "      <th>Number_Weeks_Quit</th>\n",
              "      <th>Season</th>\n",
              "      <th>Crop_Damage</th>\n",
              "    </tr>\n",
              "  </thead>\n",
              "  <tbody>\n",
              "    <tr>\n",
              "      <th>0</th>\n",
              "      <td>F00000001</td>\n",
              "      <td>188</td>\n",
              "      <td>1</td>\n",
              "      <td>0</td>\n",
              "      <td>1</td>\n",
              "      <td>0</td>\n",
              "      <td>0.0</td>\n",
              "      <td>0</td>\n",
              "      <td>1</td>\n",
              "      <td>0</td>\n",
              "    </tr>\n",
              "    <tr>\n",
              "      <th>1</th>\n",
              "      <td>F00000003</td>\n",
              "      <td>209</td>\n",
              "      <td>1</td>\n",
              "      <td>0</td>\n",
              "      <td>1</td>\n",
              "      <td>0</td>\n",
              "      <td>0.0</td>\n",
              "      <td>0</td>\n",
              "      <td>2</td>\n",
              "      <td>1</td>\n",
              "    </tr>\n",
              "    <tr>\n",
              "      <th>2</th>\n",
              "      <td>F00000004</td>\n",
              "      <td>257</td>\n",
              "      <td>1</td>\n",
              "      <td>0</td>\n",
              "      <td>1</td>\n",
              "      <td>0</td>\n",
              "      <td>0.0</td>\n",
              "      <td>0</td>\n",
              "      <td>2</td>\n",
              "      <td>1</td>\n",
              "    </tr>\n",
              "    <tr>\n",
              "      <th>3</th>\n",
              "      <td>F00000005</td>\n",
              "      <td>257</td>\n",
              "      <td>1</td>\n",
              "      <td>1</td>\n",
              "      <td>1</td>\n",
              "      <td>0</td>\n",
              "      <td>0.0</td>\n",
              "      <td>0</td>\n",
              "      <td>2</td>\n",
              "      <td>1</td>\n",
              "    </tr>\n",
              "    <tr>\n",
              "      <th>4</th>\n",
              "      <td>F00000006</td>\n",
              "      <td>342</td>\n",
              "      <td>1</td>\n",
              "      <td>0</td>\n",
              "      <td>1</td>\n",
              "      <td>0</td>\n",
              "      <td>0.0</td>\n",
              "      <td>0</td>\n",
              "      <td>2</td>\n",
              "      <td>1</td>\n",
              "    </tr>\n",
              "    <tr>\n",
              "      <th>...</th>\n",
              "      <td>...</td>\n",
              "      <td>...</td>\n",
              "      <td>...</td>\n",
              "      <td>...</td>\n",
              "      <td>...</td>\n",
              "      <td>...</td>\n",
              "      <td>...</td>\n",
              "      <td>...</td>\n",
              "      <td>...</td>\n",
              "      <td>...</td>\n",
              "    </tr>\n",
              "    <tr>\n",
              "      <th>4594</th>\n",
              "      <td>F00008078</td>\n",
              "      <td>2138</td>\n",
              "      <td>0</td>\n",
              "      <td>1</td>\n",
              "      <td>2</td>\n",
              "      <td>20</td>\n",
              "      <td>0.0</td>\n",
              "      <td>1</td>\n",
              "      <td>1</td>\n",
              "      <td>1</td>\n",
              "    </tr>\n",
              "    <tr>\n",
              "      <th>4595</th>\n",
              "      <td>F00008079</td>\n",
              "      <td>2139</td>\n",
              "      <td>0</td>\n",
              "      <td>1</td>\n",
              "      <td>2</td>\n",
              "      <td>30</td>\n",
              "      <td>47.0</td>\n",
              "      <td>2</td>\n",
              "      <td>1</td>\n",
              "      <td>1</td>\n",
              "    </tr>\n",
              "    <tr>\n",
              "      <th>4596</th>\n",
              "      <td>F00008080</td>\n",
              "      <td>2267</td>\n",
              "      <td>0</td>\n",
              "      <td>1</td>\n",
              "      <td>2</td>\n",
              "      <td>10</td>\n",
              "      <td>7.0</td>\n",
              "      <td>27</td>\n",
              "      <td>2</td>\n",
              "      <td>0</td>\n",
              "    </tr>\n",
              "    <tr>\n",
              "      <th>4597</th>\n",
              "      <td>F00008082</td>\n",
              "      <td>2267</td>\n",
              "      <td>0</td>\n",
              "      <td>1</td>\n",
              "      <td>2</td>\n",
              "      <td>10</td>\n",
              "      <td>20.0</td>\n",
              "      <td>24</td>\n",
              "      <td>2</td>\n",
              "      <td>0</td>\n",
              "    </tr>\n",
              "    <tr>\n",
              "      <th>4598</th>\n",
              "      <td>F00008083</td>\n",
              "      <td>2267</td>\n",
              "      <td>0</td>\n",
              "      <td>1</td>\n",
              "      <td>2</td>\n",
              "      <td>10</td>\n",
              "      <td>33.0</td>\n",
              "      <td>17</td>\n",
              "      <td>2</td>\n",
              "      <td>0</td>\n",
              "    </tr>\n",
              "  </tbody>\n",
              "</table>\n",
              "<p>4599 rows × 10 columns</p>\n",
              "</div>"
            ],
            "text/plain": [
              "             ID  Estimated_Insects_Count  ...  Season  Crop_Damage\n",
              "0     F00000001                      188  ...       1            0\n",
              "1     F00000003                      209  ...       2            1\n",
              "2     F00000004                      257  ...       2            1\n",
              "3     F00000005                      257  ...       2            1\n",
              "4     F00000006                      342  ...       2            1\n",
              "...         ...                      ...  ...     ...          ...\n",
              "4594  F00008078                     2138  ...       1            1\n",
              "4595  F00008079                     2139  ...       1            1\n",
              "4596  F00008080                     2267  ...       2            0\n",
              "4597  F00008082                     2267  ...       2            0\n",
              "4598  F00008083                     2267  ...       2            0\n",
              "\n",
              "[4599 rows x 10 columns]"
            ]
          },
          "metadata": {
            "tags": []
          },
          "execution_count": 11
        }
      ]
    },
    {
      "cell_type": "code",
      "metadata": {
        "colab": {
          "base_uri": "https://localhost:8080/"
        },
        "id": "mDvhGd_a1dsY",
        "outputId": "dd4a5925-b7a4-43ae-c340-b451320a429b"
      },
      "source": [
        "ag.isnull().sum()"
      ],
      "execution_count": null,
      "outputs": [
        {
          "output_type": "execute_result",
          "data": {
            "text/plain": [
              "ID                         0\n",
              "Estimated_Insects_Count    0\n",
              "Crop_Type                  0\n",
              "Soil_Type                  0\n",
              "Pesticide_Use_Category     0\n",
              "Number_Doses_Week          0\n",
              "Number_Weeks_Used          0\n",
              "Number_Weeks_Quit          0\n",
              "Season                     0\n",
              "Crop_Damage                0\n",
              "dtype: int64"
            ]
          },
          "metadata": {
            "tags": []
          },
          "execution_count": 12
        }
      ]
    },
    {
      "cell_type": "code",
      "metadata": {
        "id": "CqlPBsvE2oN1"
      },
      "source": [
        "#we don't need ID column , so we have to drop it\r\n",
        "ag= ag.drop('ID',axis=1)"
      ],
      "execution_count": null,
      "outputs": []
    },
    {
      "cell_type": "code",
      "metadata": {
        "colab": {
          "base_uri": "https://localhost:8080/",
          "height": 204
        },
        "id": "cDYa6zUn3PDz",
        "outputId": "f2b14e64-ae34-483f-a2ea-7715df9ad31b"
      },
      "source": [
        "#check dataset again\r\n",
        "ag.head()"
      ],
      "execution_count": null,
      "outputs": [
        {
          "output_type": "execute_result",
          "data": {
            "text/html": [
              "<div>\n",
              "<style scoped>\n",
              "    .dataframe tbody tr th:only-of-type {\n",
              "        vertical-align: middle;\n",
              "    }\n",
              "\n",
              "    .dataframe tbody tr th {\n",
              "        vertical-align: top;\n",
              "    }\n",
              "\n",
              "    .dataframe thead th {\n",
              "        text-align: right;\n",
              "    }\n",
              "</style>\n",
              "<table border=\"1\" class=\"dataframe\">\n",
              "  <thead>\n",
              "    <tr style=\"text-align: right;\">\n",
              "      <th></th>\n",
              "      <th>Estimated_Insects_Count</th>\n",
              "      <th>Crop_Type</th>\n",
              "      <th>Soil_Type</th>\n",
              "      <th>Pesticide_Use_Category</th>\n",
              "      <th>Number_Doses_Week</th>\n",
              "      <th>Number_Weeks_Used</th>\n",
              "      <th>Number_Weeks_Quit</th>\n",
              "      <th>Season</th>\n",
              "      <th>Crop_Damage</th>\n",
              "    </tr>\n",
              "  </thead>\n",
              "  <tbody>\n",
              "    <tr>\n",
              "      <th>0</th>\n",
              "      <td>188</td>\n",
              "      <td>1</td>\n",
              "      <td>0</td>\n",
              "      <td>1</td>\n",
              "      <td>0</td>\n",
              "      <td>0.0</td>\n",
              "      <td>0</td>\n",
              "      <td>1</td>\n",
              "      <td>0</td>\n",
              "    </tr>\n",
              "    <tr>\n",
              "      <th>1</th>\n",
              "      <td>209</td>\n",
              "      <td>1</td>\n",
              "      <td>0</td>\n",
              "      <td>1</td>\n",
              "      <td>0</td>\n",
              "      <td>0.0</td>\n",
              "      <td>0</td>\n",
              "      <td>2</td>\n",
              "      <td>1</td>\n",
              "    </tr>\n",
              "    <tr>\n",
              "      <th>2</th>\n",
              "      <td>257</td>\n",
              "      <td>1</td>\n",
              "      <td>0</td>\n",
              "      <td>1</td>\n",
              "      <td>0</td>\n",
              "      <td>0.0</td>\n",
              "      <td>0</td>\n",
              "      <td>2</td>\n",
              "      <td>1</td>\n",
              "    </tr>\n",
              "    <tr>\n",
              "      <th>3</th>\n",
              "      <td>257</td>\n",
              "      <td>1</td>\n",
              "      <td>1</td>\n",
              "      <td>1</td>\n",
              "      <td>0</td>\n",
              "      <td>0.0</td>\n",
              "      <td>0</td>\n",
              "      <td>2</td>\n",
              "      <td>1</td>\n",
              "    </tr>\n",
              "    <tr>\n",
              "      <th>4</th>\n",
              "      <td>342</td>\n",
              "      <td>1</td>\n",
              "      <td>0</td>\n",
              "      <td>1</td>\n",
              "      <td>0</td>\n",
              "      <td>0.0</td>\n",
              "      <td>0</td>\n",
              "      <td>2</td>\n",
              "      <td>1</td>\n",
              "    </tr>\n",
              "  </tbody>\n",
              "</table>\n",
              "</div>"
            ],
            "text/plain": [
              "   Estimated_Insects_Count  Crop_Type  ...  Season  Crop_Damage\n",
              "0                      188          1  ...       1            0\n",
              "1                      209          1  ...       2            1\n",
              "2                      257          1  ...       2            1\n",
              "3                      257          1  ...       2            1\n",
              "4                      342          1  ...       2            1\n",
              "\n",
              "[5 rows x 9 columns]"
            ]
          },
          "metadata": {
            "tags": []
          },
          "execution_count": 14
        }
      ]
    },
    {
      "cell_type": "code",
      "metadata": {
        "colab": {
          "base_uri": "https://localhost:8080/"
        },
        "id": "x1tCyPR-3eIt",
        "outputId": "610458ad-0428-4173-90b5-983ae0c7d765"
      },
      "source": [
        "ag.shape"
      ],
      "execution_count": null,
      "outputs": [
        {
          "output_type": "execute_result",
          "data": {
            "text/plain": [
              "(4599, 9)"
            ]
          },
          "metadata": {
            "tags": []
          },
          "execution_count": 15
        }
      ]
    },
    {
      "cell_type": "code",
      "metadata": {
        "colab": {
          "base_uri": "https://localhost:8080/",
          "height": 317
        },
        "id": "xfLXsHl81Iwu",
        "outputId": "66da8856-5ef8-42d5-9a49-9f80fe7647e8"
      },
      "source": [
        "ag.describe()"
      ],
      "execution_count": null,
      "outputs": [
        {
          "output_type": "execute_result",
          "data": {
            "text/html": [
              "<div>\n",
              "<style scoped>\n",
              "    .dataframe tbody tr th:only-of-type {\n",
              "        vertical-align: middle;\n",
              "    }\n",
              "\n",
              "    .dataframe tbody tr th {\n",
              "        vertical-align: top;\n",
              "    }\n",
              "\n",
              "    .dataframe thead th {\n",
              "        text-align: right;\n",
              "    }\n",
              "</style>\n",
              "<table border=\"1\" class=\"dataframe\">\n",
              "  <thead>\n",
              "    <tr style=\"text-align: right;\">\n",
              "      <th></th>\n",
              "      <th>Estimated_Insects_Count</th>\n",
              "      <th>Crop_Type</th>\n",
              "      <th>Soil_Type</th>\n",
              "      <th>Pesticide_Use_Category</th>\n",
              "      <th>Number_Doses_Week</th>\n",
              "      <th>Number_Weeks_Used</th>\n",
              "      <th>Number_Weeks_Quit</th>\n",
              "      <th>Season</th>\n",
              "      <th>Crop_Damage</th>\n",
              "    </tr>\n",
              "  </thead>\n",
              "  <tbody>\n",
              "    <tr>\n",
              "      <th>count</th>\n",
              "      <td>4599.000000</td>\n",
              "      <td>4599.000000</td>\n",
              "      <td>4599.000000</td>\n",
              "      <td>4599.000000</td>\n",
              "      <td>4599.000000</td>\n",
              "      <td>4599.000000</td>\n",
              "      <td>4599.000000</td>\n",
              "      <td>4599.000000</td>\n",
              "      <td>4599.000000</td>\n",
              "    </tr>\n",
              "    <tr>\n",
              "      <th>mean</th>\n",
              "      <td>1363.000435</td>\n",
              "      <td>0.224831</td>\n",
              "      <td>0.476625</td>\n",
              "      <td>2.283540</td>\n",
              "      <td>26.477495</td>\n",
              "      <td>26.114373</td>\n",
              "      <td>9.205479</td>\n",
              "      <td>1.894325</td>\n",
              "      <td>0.194390</td>\n",
              "    </tr>\n",
              "    <tr>\n",
              "      <th>std</th>\n",
              "      <td>814.439120</td>\n",
              "      <td>0.417517</td>\n",
              "      <td>0.499508</td>\n",
              "      <td>0.471978</td>\n",
              "      <td>15.524647</td>\n",
              "      <td>14.686945</td>\n",
              "      <td>9.713253</td>\n",
              "      <td>0.694952</td>\n",
              "      <td>0.454597</td>\n",
              "    </tr>\n",
              "    <tr>\n",
              "      <th>min</th>\n",
              "      <td>150.000000</td>\n",
              "      <td>0.000000</td>\n",
              "      <td>0.000000</td>\n",
              "      <td>1.000000</td>\n",
              "      <td>0.000000</td>\n",
              "      <td>0.000000</td>\n",
              "      <td>0.000000</td>\n",
              "      <td>1.000000</td>\n",
              "      <td>0.000000</td>\n",
              "    </tr>\n",
              "    <tr>\n",
              "      <th>25%</th>\n",
              "      <td>731.000000</td>\n",
              "      <td>0.000000</td>\n",
              "      <td>0.000000</td>\n",
              "      <td>2.000000</td>\n",
              "      <td>15.000000</td>\n",
              "      <td>17.000000</td>\n",
              "      <td>0.000000</td>\n",
              "      <td>1.000000</td>\n",
              "      <td>0.000000</td>\n",
              "    </tr>\n",
              "    <tr>\n",
              "      <th>50%</th>\n",
              "      <td>1212.000000</td>\n",
              "      <td>0.000000</td>\n",
              "      <td>0.000000</td>\n",
              "      <td>2.000000</td>\n",
              "      <td>20.000000</td>\n",
              "      <td>26.000000</td>\n",
              "      <td>7.000000</td>\n",
              "      <td>2.000000</td>\n",
              "      <td>0.000000</td>\n",
              "    </tr>\n",
              "    <tr>\n",
              "      <th>75%</th>\n",
              "      <td>1786.000000</td>\n",
              "      <td>0.000000</td>\n",
              "      <td>1.000000</td>\n",
              "      <td>3.000000</td>\n",
              "      <td>40.000000</td>\n",
              "      <td>36.000000</td>\n",
              "      <td>16.000000</td>\n",
              "      <td>2.000000</td>\n",
              "      <td>0.000000</td>\n",
              "    </tr>\n",
              "    <tr>\n",
              "      <th>max</th>\n",
              "      <td>4097.000000</td>\n",
              "      <td>1.000000</td>\n",
              "      <td>1.000000</td>\n",
              "      <td>3.000000</td>\n",
              "      <td>95.000000</td>\n",
              "      <td>66.000000</td>\n",
              "      <td>47.000000</td>\n",
              "      <td>3.000000</td>\n",
              "      <td>2.000000</td>\n",
              "    </tr>\n",
              "  </tbody>\n",
              "</table>\n",
              "</div>"
            ],
            "text/plain": [
              "       Estimated_Insects_Count    Crop_Type  ...       Season  Crop_Damage\n",
              "count              4599.000000  4599.000000  ...  4599.000000  4599.000000\n",
              "mean               1363.000435     0.224831  ...     1.894325     0.194390\n",
              "std                 814.439120     0.417517  ...     0.694952     0.454597\n",
              "min                 150.000000     0.000000  ...     1.000000     0.000000\n",
              "25%                 731.000000     0.000000  ...     1.000000     0.000000\n",
              "50%                1212.000000     0.000000  ...     2.000000     0.000000\n",
              "75%                1786.000000     0.000000  ...     2.000000     0.000000\n",
              "max                4097.000000     1.000000  ...     3.000000     2.000000\n",
              "\n",
              "[8 rows x 9 columns]"
            ]
          },
          "metadata": {
            "tags": []
          },
          "execution_count": 16
        }
      ]
    },
    {
      "cell_type": "code",
      "metadata": {
        "colab": {
          "base_uri": "https://localhost:8080/"
        },
        "id": "91tqtzqN3jex",
        "outputId": "4867d92a-f2a2-4c2c-d661-09c2860302eb"
      },
      "source": [
        "#cheking skewness\r\n",
        "ag.skew()"
      ],
      "execution_count": null,
      "outputs": [
        {
          "output_type": "execute_result",
          "data": {
            "text/plain": [
              "Estimated_Insects_Count    0.911469\n",
              "Crop_Type                  1.318693\n",
              "Soil_Type                  0.093631\n",
              "Pesticide_Use_Category     0.678586\n",
              "Number_Doses_Week          0.945895\n",
              "Number_Weeks_Used         -0.007168\n",
              "Number_Weeks_Quit          0.919771\n",
              "Season                     0.144841\n",
              "Crop_Damage                2.306933\n",
              "dtype: float64"
            ]
          },
          "metadata": {
            "tags": []
          },
          "execution_count": 17
        }
      ]
    },
    {
      "cell_type": "markdown",
      "metadata": {
        "id": "YI01f26N3uCO"
      },
      "source": [
        "# **Exploratory Data Analysis**"
      ]
    },
    {
      "cell_type": "markdown",
      "metadata": {
        "id": "La18jIWF331q"
      },
      "source": [
        "**Univariate Analysis**"
      ]
    },
    {
      "cell_type": "code",
      "metadata": {
        "colab": {
          "base_uri": "https://localhost:8080/",
          "height": 399
        },
        "id": "aPhR5l_e32qN",
        "outputId": "f364a04a-89a3-4943-f33e-31cac787710f"
      },
      "source": [
        "#plotting the Estimated_Insects_Count column\r\n",
        "plt.figure(figsize=(28,8))\r\n",
        "sns.countplot(ag['Estimated_Insects_Count'])\r\n",
        "plt.xticks(rotation=90)\r\n",
        "plt.show()"
      ],
      "execution_count": null,
      "outputs": [
        {
          "output_type": "display_data",
          "data": {
            "image/png": "[encoded data removed]",
            "text/plain": [
              "<Figure size 2016x576 with 1 Axes>"
            ]
          },
          "metadata": {
            "tags": [],
            "needs_background": "light"
          }
        }
      ]
    },
    {
      "cell_type": "code",
      "metadata": {
        "colab": {
          "base_uri": "https://localhost:8080/",
          "height": 389
        },
        "id": "VANT04-_6Cay",
        "outputId": "2e91cb06-5558-4d0c-a804-ce8b6b151af1"
      },
      "source": [
        "plt.figure(figsize=(8,6))\r\n",
        "sns.countplot(ag['Crop_Type'])\r\n",
        "plt.show()"
      ],
      "execution_count": null,
      "outputs": [
        {
          "output_type": "display_data",
          "data": {
            "image/png": "[encoded data removed]",
            "text/plain": [
              "<Figure size 576x432 with 1 Axes>"
            ]
          },
          "metadata": {
            "tags": [],
            "needs_background": "light"
          }
        }
      ]
    },
    {
      "cell_type": "code",
      "metadata": {
        "colab": {
          "base_uri": "https://localhost:8080/",
          "height": 389
        },
        "id": "U61e0kmFMrtW",
        "outputId": "fe094ade-69b0-4964-b0fe-3b6f057037e6"
      },
      "source": [
        "plt.figure(figsize=(8,6))\r\n",
        "sns.countplot(ag['Soil_Type'])\r\n",
        "plt.show()"
      ],
      "execution_count": null,
      "outputs": [
        {
          "output_type": "display_data",
          "data": {
            "image/png": "[encoded data removed]",
            "text/plain": [
              "<Figure size 576x432 with 1 Axes>"
            ]
          },
          "metadata": {
            "tags": [],
            "needs_background": "light"
          }
        }
      ]
    },
    {
      "cell_type": "code",
      "metadata": {
        "colab": {
          "base_uri": "https://localhost:8080/",
          "height": 498
        },
        "id": "uulXQe1dNA8N",
        "outputId": "ed8f2489-9a4b-4b4f-8131-4c5c61479af6"
      },
      "source": [
        "plt.figure(figsize=(10,8))\r\n",
        "sns.countplot(ag['Pesticide_Use_Category'])\r\n",
        "plt.show()"
      ],
      "execution_count": null,
      "outputs": [
        {
          "output_type": "display_data",
          "data": {
            "image/png": "[encoded data removed]",
            "text/plain": [
              "<Figure size 720x576 with 1 Axes>"
            ]
          },
          "metadata": {
            "tags": [],
            "needs_background": "light"
          }
        }
      ]
    },
    {
      "cell_type": "code",
      "metadata": {
        "colab": {
          "base_uri": "https://localhost:8080/",
          "height": 498
        },
        "id": "sTSH6vvPNGfH",
        "outputId": "bb533a3f-175e-47d4-87ac-56ac2f1f6e67"
      },
      "source": [
        "plt.figure(figsize=(10,8))\r\n",
        "sns.countplot(ag['Number_Doses_Week'])\r\n",
        "plt.show()\r\n"
      ],
      "execution_count": null,
      "outputs": [
        {
          "output_type": "display_data",
          "data": {
            "image/png": "[encoded data removed]",
            "text/plain": [
              "<Figure size 720x576 with 1 Axes>"
            ]
          },
          "metadata": {
            "tags": [],
            "needs_background": "light"
          }
        }
      ]
    },
    {
      "cell_type": "code",
      "metadata": {
        "colab": {
          "base_uri": "https://localhost:8080/",
          "height": 397
        },
        "id": "9vS17ve3NJQy",
        "outputId": "56e342f8-0a72-4f88-df5a-6b44ccfea1ee"
      },
      "source": [
        "plt.figure(figsize=(28,8))\r\n",
        "sns.countplot(ag['Number_Weeks_Used'])\r\n",
        "plt.xticks(rotation=90)\r\n",
        "plt.show()"
      ],
      "execution_count": null,
      "outputs": [
        {
          "output_type": "display_data",
          "data": {
            "image/png": "[encoded data removed]",
            "text/plain": [
              "<Figure size 2016x576 with 1 Axes>"
            ]
          },
          "metadata": {
            "tags": [],
            "needs_background": "light"
          }
        }
      ]
    },
    {
      "cell_type": "code",
      "metadata": {
        "colab": {
          "base_uri": "https://localhost:8080/",
          "height": 498
        },
        "id": "4n3TDN8HNJ-m",
        "outputId": "4bd7c318-e513-4939-ab01-9d933d24479a"
      },
      "source": [
        "plt.figure(figsize=(20,8))\r\n",
        "sns.countplot(ag['Number_Weeks_Quit'])\r\n",
        "plt.show()"
      ],
      "execution_count": null,
      "outputs": [
        {
          "output_type": "display_data",
          "data": {
            "image/png": "[encoded data removed]",
            "text/plain": [
              "<Figure size 1440x576 with 1 Axes>"
            ]
          },
          "metadata": {
            "tags": [],
            "needs_background": "light"
          }
        }
      ]
    },
    {
      "cell_type": "code",
      "metadata": {
        "colab": {
          "base_uri": "https://localhost:8080/",
          "height": 497
        },
        "id": "lUT29HJDNKXC",
        "outputId": "9e9799fd-be52-4e1c-f993-18495f117561"
      },
      "source": [
        "plt.figure(figsize=(10,8))\r\n",
        "sns.countplot(ag['Season'])\r\n",
        "plt.show()"
      ],
      "execution_count": null,
      "outputs": [
        {
          "output_type": "display_data",
          "data": {
            "image/png": "[encoded data removed]",
            "text/plain": [
              "<Figure size 720x576 with 1 Axes>"
            ]
          },
          "metadata": {
            "tags": [],
            "needs_background": "light"
          }
        }
      ]
    },
    {
      "cell_type": "code",
      "metadata": {
        "colab": {
          "base_uri": "https://localhost:8080/",
          "height": 500
        },
        "id": "jqRLYqYWNvzN",
        "outputId": "8fb99ed7-5b2f-442c-c6c5-5c40ebd1e649"
      },
      "source": [
        "plt.figure(figsize=(10,8))\r\n",
        "sns.countplot(ag['Crop_Damage'])\r\n",
        "plt.show()"
      ],
      "execution_count": null,
      "outputs": [
        {
          "output_type": "display_data",
          "data": {
            "image/png": "[encoded data removed]",
            "text/plain": [
              "<Figure size 720x576 with 1 Axes>"
            ]
          },
          "metadata": {
            "tags": [],
            "needs_background": "light"
          }
        }
      ]
    },
    {
      "cell_type": "markdown",
      "metadata": {
        "id": "-uXhFWBZOM-D"
      },
      "source": [
        "Bivarate Analysis"
      ]
    },
    {
      "cell_type": "code",
      "metadata": {
        "colab": {
          "base_uri": "https://localhost:8080/",
          "height": 406
        },
        "id": "istQ24RKN2ae",
        "outputId": "e709433b-9cd0-4e59-fde1-c0820adf9d2f"
      },
      "source": [
        "plt.figure(figsize=(10,6))\r\n",
        "sns.countplot(x='Crop_Type',hue='Crop_Damage',data=ag,)\r\n",
        "plt.show"
      ],
      "execution_count": null,
      "outputs": [
        {
          "output_type": "execute_result",
          "data": {
            "text/plain": [
              "<function matplotlib.pyplot.show>"
            ]
          },
          "metadata": {
            "tags": []
          },
          "execution_count": 27
        },
        {
          "output_type": "display_data",
          "data": {
            "image/png": "[encoded data removed]",
            "text/plain": [
              "<Figure size 720x432 with 1 Axes>"
            ]
          },
          "metadata": {
            "tags": [],
            "needs_background": "light"
          }
        }
      ]
    },
    {
      "cell_type": "code",
      "metadata": {
        "colab": {
          "base_uri": "https://localhost:8080/",
          "height": 313
        },
        "id": "OP8BZGPBO8z7",
        "outputId": "59c4c101-a7a2-4ef8-85a6-f90bb9efef5d"
      },
      "source": [
        "plt.figure(figsize=(30,6))\r\n",
        "sns.countplot(x='Estimated_Insects_Count',hue='Crop_Damage',data=ag,)\r\n",
        "plt.xticks(rotation=90)\r\n",
        "plt.show"
      ],
      "execution_count": null,
      "outputs": [
        {
          "output_type": "execute_result",
          "data": {
            "text/plain": [
              "<function matplotlib.pyplot.show>"
            ]
          },
          "metadata": {
            "tags": []
          },
          "execution_count": 28
        },
        {
          "output_type": "display_data",
          "data": {
            "image/png": "[encoded data removed]",
            "text/plain": [
              "<Figure size 2160x432 with 1 Axes>"
            ]
          },
          "metadata": {
            "tags": [],
            "needs_background": "light"
          }
        }
      ]
    },
    {
      "cell_type": "code",
      "metadata": {
        "colab": {
          "base_uri": "https://localhost:8080/",
          "height": 406
        },
        "id": "kX5qYlDiO9od",
        "outputId": "1b80274f-8f82-42be-a92a-9530bd96c0d5"
      },
      "source": [
        "plt.figure(figsize=(10,6))\r\n",
        "sns.countplot(x='Soil_Type',hue='Crop_Damage',data=ag,)\r\n",
        "plt.show"
      ],
      "execution_count": null,
      "outputs": [
        {
          "output_type": "execute_result",
          "data": {
            "text/plain": [
              "<function matplotlib.pyplot.show>"
            ]
          },
          "metadata": {
            "tags": []
          },
          "execution_count": 29
        },
        {
          "output_type": "display_data",
          "data": {
            "image/png": "[encoded data removed]",
            "text/plain": [
              "<Figure size 720x432 with 1 Axes>"
            ]
          },
          "metadata": {
            "tags": [],
            "needs_background": "light"
          }
        }
      ]
    },
    {
      "cell_type": "code",
      "metadata": {
        "colab": {
          "base_uri": "https://localhost:8080/",
          "height": 407
        },
        "id": "-UtMqdnyO9-f",
        "outputId": "9edaeadb-9ece-46cb-b2e7-ca85495e1ada"
      },
      "source": [
        "plt.figure(figsize=(10,6))\r\n",
        "sns.countplot(x='Pesticide_Use_Category',hue='Crop_Damage',data=ag,)\r\n",
        "plt.show"
      ],
      "execution_count": null,
      "outputs": [
        {
          "output_type": "execute_result",
          "data": {
            "text/plain": [
              "<function matplotlib.pyplot.show>"
            ]
          },
          "metadata": {
            "tags": []
          },
          "execution_count": 30
        },
        {
          "output_type": "display_data",
          "data": {
            "image/png": "[encoded data removed]",
            "text/plain": [
              "<Figure size 720x432 with 1 Axes>"
            ]
          },
          "metadata": {
            "tags": [],
            "needs_background": "light"
          }
        }
      ]
    },
    {
      "cell_type": "code",
      "metadata": {
        "colab": {
          "base_uri": "https://localhost:8080/",
          "height": 406
        },
        "id": "YUUdfVS_O-Sd",
        "outputId": "e06f0dac-fe72-47c5-e755-6d3ee2c55fbd"
      },
      "source": [
        "plt.figure(figsize=(16,6))\r\n",
        "sns.countplot(x='Number_Doses_Week',hue='Crop_Damage',data=ag,)\r\n",
        "plt.show"
      ],
      "execution_count": null,
      "outputs": [
        {
          "output_type": "execute_result",
          "data": {
            "text/plain": [
              "<function matplotlib.pyplot.show>"
            ]
          },
          "metadata": {
            "tags": []
          },
          "execution_count": 31
        },
        {
          "output_type": "display_data",
          "data": {
            "image/png": "[encoded data removed]",
            "text/plain": [
              "<Figure size 1152x432 with 1 Axes>"
            ]
          },
          "metadata": {
            "tags": [],
            "needs_background": "light"
          }
        }
      ]
    },
    {
      "cell_type": "code",
      "metadata": {
        "colab": {
          "base_uri": "https://localhost:8080/",
          "height": 527
        },
        "id": "gpPlpVYbO-h6",
        "outputId": "950abf3d-d853-49a7-cf47-f5e3df99e8b2"
      },
      "source": [
        "plt.figure(figsize=(20,8))\r\n",
        "sns.countplot(x='Number_Weeks_Used',hue='Crop_Damage',data=ag,)\r\n",
        "plt.xticks(rotation=90)\r\n",
        "plt.show"
      ],
      "execution_count": null,
      "outputs": [
        {
          "output_type": "execute_result",
          "data": {
            "text/plain": [
              "<function matplotlib.pyplot.show>"
            ]
          },
          "metadata": {
            "tags": []
          },
          "execution_count": 32
        },
        {
          "output_type": "display_data",
          "data": {
            "image/png": "[encoded data removed]",
            "text/plain": [
              "<Figure size 1440x576 with 1 Axes>"
            ]
          },
          "metadata": {
            "tags": [],
            "needs_background": "light"
          }
        }
      ]
    },
    {
      "cell_type": "code",
      "metadata": {
        "colab": {
          "base_uri": "https://localhost:8080/",
          "height": 430
        },
        "id": "UU4EiYRXO-uC",
        "outputId": "b2246851-1901-4df3-d3ef-ef3e32828927"
      },
      "source": [
        "plt.figure(figsize=(26,8))\r\n",
        "sns.countplot(x='Number_Weeks_Quit',hue='Crop_Damage',data=ag,)\r\n",
        "plt.show"
      ],
      "execution_count": null,
      "outputs": [
        {
          "output_type": "execute_result",
          "data": {
            "text/plain": [
              "<function matplotlib.pyplot.show>"
            ]
          },
          "metadata": {
            "tags": []
          },
          "execution_count": 33
        },
        {
          "output_type": "display_data",
          "data": {
            "image/png": "[encoded data removed]",
            "text/plain": [
              "<Figure size 1872x576 with 1 Axes>"
            ]
          },
          "metadata": {
            "tags": [],
            "needs_background": "light"
          }
        }
      ]
    },
    {
      "cell_type": "code",
      "metadata": {
        "colab": {
          "base_uri": "https://localhost:8080/",
          "height": 409
        },
        "id": "ljbMTLzeO-57",
        "outputId": "f5274b0e-b86f-4fed-e6ab-3b3f9d3fbd34"
      },
      "source": [
        "plt.figure(figsize=(10,6))\r\n",
        "sns.countplot(x='Season',hue='Crop_Damage',data=ag,)\r\n",
        "plt.show"
      ],
      "execution_count": null,
      "outputs": [
        {
          "output_type": "execute_result",
          "data": {
            "text/plain": [
              "<function matplotlib.pyplot.show>"
            ]
          },
          "metadata": {
            "tags": []
          },
          "execution_count": 34
        },
        {
          "output_type": "display_data",
          "data": {
            "image/png": "[encoded data removed]",
            "text/plain": [
              "<Figure size 720x432 with 1 Axes>"
            ]
          },
          "metadata": {
            "tags": [],
            "needs_background": "light"
          }
        }
      ]
    },
    {
      "cell_type": "markdown",
      "metadata": {
        "id": "ifaeX5y8RVpE"
      },
      "source": [
        "Multivariate Analysis"
      ]
    },
    {
      "cell_type": "code",
      "metadata": {
        "colab": {
          "base_uri": "https://localhost:8080/",
          "height": 348
        },
        "id": "prrWK9ERQO33",
        "outputId": "72cb9591-137c-4894-a59b-8503af34bf3f"
      },
      "source": [
        "#checking correlation\r\n",
        "agcorr = ag.corr()\r\n",
        "agcorr"
      ],
      "execution_count": null,
      "outputs": [
        {
          "output_type": "execute_result",
          "data": {
            "text/html": [
              "<div>\n",
              "<style scoped>\n",
              "    .dataframe tbody tr th:only-of-type {\n",
              "        vertical-align: middle;\n",
              "    }\n",
              "\n",
              "    .dataframe tbody tr th {\n",
              "        vertical-align: top;\n",
              "    }\n",
              "\n",
              "    .dataframe thead th {\n",
              "        text-align: right;\n",
              "    }\n",
              "</style>\n",
              "<table border=\"1\" class=\"dataframe\">\n",
              "  <thead>\n",
              "    <tr style=\"text-align: right;\">\n",
              "      <th></th>\n",
              "      <th>Estimated_Insects_Count</th>\n",
              "      <th>Crop_Type</th>\n",
              "      <th>Soil_Type</th>\n",
              "      <th>Pesticide_Use_Category</th>\n",
              "      <th>Number_Doses_Week</th>\n",
              "      <th>Number_Weeks_Used</th>\n",
              "      <th>Number_Weeks_Quit</th>\n",
              "      <th>Season</th>\n",
              "      <th>Crop_Damage</th>\n",
              "    </tr>\n",
              "  </thead>\n",
              "  <tbody>\n",
              "    <tr>\n",
              "      <th>Estimated_Insects_Count</th>\n",
              "      <td>1.000000</td>\n",
              "      <td>-0.036911</td>\n",
              "      <td>-0.151796</td>\n",
              "      <td>-0.027111</td>\n",
              "      <td>-0.122509</td>\n",
              "      <td>0.360166</td>\n",
              "      <td>0.246719</td>\n",
              "      <td>-0.009482</td>\n",
              "      <td>0.202312</td>\n",
              "    </tr>\n",
              "    <tr>\n",
              "      <th>Crop_Type</th>\n",
              "      <td>-0.036911</td>\n",
              "      <td>1.000000</td>\n",
              "      <td>-0.175019</td>\n",
              "      <td>0.349662</td>\n",
              "      <td>-0.163832</td>\n",
              "      <td>0.000700</td>\n",
              "      <td>-0.273475</td>\n",
              "      <td>-0.000549</td>\n",
              "      <td>0.021772</td>\n",
              "    </tr>\n",
              "    <tr>\n",
              "      <th>Soil_Type</th>\n",
              "      <td>-0.151796</td>\n",
              "      <td>-0.175019</td>\n",
              "      <td>1.000000</td>\n",
              "      <td>0.021661</td>\n",
              "      <td>0.050099</td>\n",
              "      <td>-0.080775</td>\n",
              "      <td>-0.034355</td>\n",
              "      <td>0.011052</td>\n",
              "      <td>-0.059481</td>\n",
              "    </tr>\n",
              "    <tr>\n",
              "      <th>Pesticide_Use_Category</th>\n",
              "      <td>-0.027111</td>\n",
              "      <td>0.349662</td>\n",
              "      <td>0.021661</td>\n",
              "      <td>1.000000</td>\n",
              "      <td>-0.005985</td>\n",
              "      <td>0.294760</td>\n",
              "      <td>-0.569467</td>\n",
              "      <td>0.008487</td>\n",
              "      <td>0.199195</td>\n",
              "    </tr>\n",
              "    <tr>\n",
              "      <th>Number_Doses_Week</th>\n",
              "      <td>-0.122509</td>\n",
              "      <td>-0.163832</td>\n",
              "      <td>0.050099</td>\n",
              "      <td>-0.005985</td>\n",
              "      <td>1.000000</td>\n",
              "      <td>0.087103</td>\n",
              "      <td>-0.032381</td>\n",
              "      <td>-0.003768</td>\n",
              "      <td>-0.018363</td>\n",
              "    </tr>\n",
              "    <tr>\n",
              "      <th>Number_Weeks_Used</th>\n",
              "      <td>0.360166</td>\n",
              "      <td>0.000700</td>\n",
              "      <td>-0.080775</td>\n",
              "      <td>0.294760</td>\n",
              "      <td>0.087103</td>\n",
              "      <td>1.000000</td>\n",
              "      <td>-0.347417</td>\n",
              "      <td>-0.014605</td>\n",
              "      <td>0.177586</td>\n",
              "    </tr>\n",
              "    <tr>\n",
              "      <th>Number_Weeks_Quit</th>\n",
              "      <td>0.246719</td>\n",
              "      <td>-0.273475</td>\n",
              "      <td>-0.034355</td>\n",
              "      <td>-0.569467</td>\n",
              "      <td>-0.032381</td>\n",
              "      <td>-0.347417</td>\n",
              "      <td>1.000000</td>\n",
              "      <td>0.004861</td>\n",
              "      <td>-0.152918</td>\n",
              "    </tr>\n",
              "    <tr>\n",
              "      <th>Season</th>\n",
              "      <td>-0.009482</td>\n",
              "      <td>-0.000549</td>\n",
              "      <td>0.011052</td>\n",
              "      <td>0.008487</td>\n",
              "      <td>-0.003768</td>\n",
              "      <td>-0.014605</td>\n",
              "      <td>0.004861</td>\n",
              "      <td>1.000000</td>\n",
              "      <td>-0.016196</td>\n",
              "    </tr>\n",
              "    <tr>\n",
              "      <th>Crop_Damage</th>\n",
              "      <td>0.202312</td>\n",
              "      <td>0.021772</td>\n",
              "      <td>-0.059481</td>\n",
              "      <td>0.199195</td>\n",
              "      <td>-0.018363</td>\n",
              "      <td>0.177586</td>\n",
              "      <td>-0.152918</td>\n",
              "      <td>-0.016196</td>\n",
              "      <td>1.000000</td>\n",
              "    </tr>\n",
              "  </tbody>\n",
              "</table>\n",
              "</div>"
            ],
            "text/plain": [
              "                         Estimated_Insects_Count  ...  Crop_Damage\n",
              "Estimated_Insects_Count                 1.000000  ...     0.202312\n",
              "Crop_Type                              -0.036911  ...     0.021772\n",
              "Soil_Type                              -0.151796  ...    -0.059481\n",
              "Pesticide_Use_Category                 -0.027111  ...     0.199195\n",
              "Number_Doses_Week                      -0.122509  ...    -0.018363\n",
              "Number_Weeks_Used                       0.360166  ...     0.177586\n",
              "Number_Weeks_Quit                       0.246719  ...    -0.152918\n",
              "Season                                 -0.009482  ...    -0.016196\n",
              "Crop_Damage                             0.202312  ...     1.000000\n",
              "\n",
              "[9 rows x 9 columns]"
            ]
          },
          "metadata": {
            "tags": []
          },
          "execution_count": 35
        }
      ]
    },
    {
      "cell_type": "code",
      "metadata": {
        "colab": {
          "base_uri": "https://localhost:8080/",
          "height": 614
        },
        "id": "eg6LKJnTRjed",
        "outputId": "16ab15ea-190b-491b-f942-7c21255c2d56"
      },
      "source": [
        "#checking correlation using heatmap\r\n",
        "plt.figure(figsize = (12,8))\r\n",
        "sns.heatmap(ag.corr(), annot = True)\r\n",
        "plt.title('Correlation mapping')\r\n",
        "plt.show()"
      ],
      "execution_count": null,
      "outputs": [
        {
          "output_type": "display_data",
          "data": {
            "image/png": "[encoded data removed]",
            "text/plain": [
              "<Figure size 864x576 with 2 Axes>"
            ]
          },
          "metadata": {
            "tags": [],
            "needs_background": "light"
          }
        }
      ]
    },
    {
      "cell_type": "markdown",
      "metadata": {
        "id": "NVFj0QPOTOiH"
      },
      "source": [
        "**Checking skewness**"
      ]
    },
    {
      "cell_type": "code",
      "metadata": {
        "colab": {
          "base_uri": "https://localhost:8080/",
          "height": 1000
        },
        "id": "t4e2c-zZRrx1",
        "outputId": "3975f46a-8702-473b-94be-a477a4d0d5ca"
      },
      "source": [
        "#checking skewness using distplot\r\n",
        "for col in ag.describe().columns:\r\n",
        "  sns.distplot(ag[col],color='b')\r\n",
        "  plt.show()"
      ],
      "execution_count": null,
      "outputs": [
        {
          "output_type": "display_data",
          "data": {
            "image/png": "[encoded data removed]",
            "text/plain": [
              "<Figure size 432x288 with 1 Axes>"
            ]
          },
          "metadata": {
            "tags": [],
            "needs_background": "light"
          }
        },
        {
          "output_type": "display_data",
          "data": {
            "image/png": "[encoded data removed]",
            "text/plain": [
              "<Figure size 432x288 with 1 Axes>"
            ]
          },
          "metadata": {
            "tags": [],
            "needs_background": "light"
          }
        },
        {
          "output_type": "display_data",
          "data": {
            "image/png": "[encoded data removed]",
            "text/plain": [
              "<Figure size 432x288 with 1 Axes>"
            ]
          },
          "metadata": {
            "tags": [],
            "needs_background": "light"
          }
        },
        {
          "output_type": "display_data",
          "data": {
            "image/png": "[encoded data removed]",
            "text/plain": [
              "<Figure size 432x288 with 1 Axes>"
            ]
          },
          "metadata": {
            "tags": [],
            "needs_background": "light"
          }
        },
        {
          "output_type": "display_data",
          "data": {
            "image/png": "[encoded data removed]",
            "text/plain": [
              "<Figure size 432x288 with 1 Axes>"
            ]
          },
          "metadata": {
            "tags": [],
            "needs_background": "light"
          }
        },
        {
          "output_type": "display_data",
          "data": {
            "image/png": "[encoded data removed]",
            "text/plain": [
              "<Figure size 432x288 with 1 Axes>"
            ]
          },
          "metadata": {
            "tags": [],
            "needs_background": "light"
          }
        },
        {
          "output_type": "display_data",
          "data": {
            "image/png": "[encoded data removed]",
            "text/plain": [
              "<Figure size 432x288 with 1 Axes>"
            ]
          },
          "metadata": {
            "tags": [],
            "needs_background": "light"
          }
        },
        {
          "output_type": "display_data",
          "data": {
            "image/png": "[encoded data removed]",
            "text/plain": [
              "<Figure size 432x288 with 1 Axes>"
            ]
          },
          "metadata": {
            "tags": [],
            "needs_background": "light"
          }
        },
        {
          "output_type": "display_data",
          "data": {
            "image/png": "[encoded data removed]",
            "text/plain": [
              "<Figure size 432x288 with 1 Axes>"
            ]
          },
          "metadata": {
            "tags": [],
            "needs_background": "light"
          }
        }
      ]
    },
    {
      "cell_type": "code",
      "metadata": {
        "colab": {
          "base_uri": "https://localhost:8080/"
        },
        "id": "ZT8Ph2UKTcb8",
        "outputId": "45bc57fa-23c7-4f19-ddd5-12973a9231ce"
      },
      "source": [
        "ag.skew()"
      ],
      "execution_count": null,
      "outputs": [
        {
          "output_type": "execute_result",
          "data": {
            "text/plain": [
              "Estimated_Insects_Count    0.911469\n",
              "Crop_Type                  1.318693\n",
              "Soil_Type                  0.093631\n",
              "Pesticide_Use_Category     0.678586\n",
              "Number_Doses_Week          0.945895\n",
              "Number_Weeks_Used         -0.007168\n",
              "Number_Weeks_Quit          0.919771\n",
              "Season                     0.144841\n",
              "Crop_Damage                2.306933\n",
              "dtype: float64"
            ]
          },
          "metadata": {
            "tags": []
          },
          "execution_count": 38
        }
      ]
    },
    {
      "cell_type": "code",
      "metadata": {
        "id": "c1CS4PIWT2WY"
      },
      "source": [
        "#treating skew via yeo-jhonson method\r\n",
        "from sklearn.preprocessing import power_transform\r\n",
        "x=power_transform(ag,method='yeo-johnson')"
      ],
      "execution_count": null,
      "outputs": []
    },
    {
      "cell_type": "markdown",
      "metadata": {
        "id": "PrzzIIEIUNTp"
      },
      "source": [
        "**Outliers**"
      ]
    },
    {
      "cell_type": "code",
      "metadata": {
        "colab": {
          "base_uri": "https://localhost:8080/",
          "height": 501
        },
        "id": "rZ3CUgXGUBxK",
        "outputId": "d572610b-86fd-4842-9c7b-d813f979ed32"
      },
      "source": [
        "#plotting Outliers\r\n",
        "ag.boxplot(figsize=(20,8))"
      ],
      "execution_count": null,
      "outputs": [
        {
          "output_type": "execute_result",
          "data": {
            "text/plain": [
              "<matplotlib.axes._subplots.AxesSubplot at 0x7fb674e6c7b8>"
            ]
          },
          "metadata": {
            "tags": []
          },
          "execution_count": 40
        },
        {
          "output_type": "display_data",
          "data": {
            "image/png": "[encoded data removed]",
            "text/plain": [
              "<Figure size 1440x576 with 1 Axes>"
            ]
          },
          "metadata": {
            "tags": [],
            "needs_background": "light"
          }
        }
      ]
    },
    {
      "cell_type": "code",
      "metadata": {
        "colab": {
          "base_uri": "https://localhost:8080/"
        },
        "id": "2FConuslUMHF",
        "outputId": "3107cb60-4c87-4473-d2b1-bc5d2ccb05ba"
      },
      "source": [
        "#treating outliers using z score metod\r\n",
        "from scipy.stats import zscore\r\n",
        "z=np.abs(zscore(ag))\r\n",
        "z"
      ],
      "execution_count": null,
      "outputs": [
        {
          "output_type": "execute_result",
          "data": {
            "text/plain": [
              "array([[1.44286807, 1.85681868, 0.95429408, ..., 0.94782668, 1.28702725,\n",
              "        0.42765624],\n",
              "       [1.41708065, 1.85681868, 0.95429408, ..., 0.94782668, 0.15207762,\n",
              "        1.77233374],\n",
              "       [1.35813798, 1.85681868, 0.95429408, ..., 0.94782668, 0.15207762,\n",
              "        1.77233374],\n",
              "       ...,\n",
              "       [1.11008649, 0.53855555, 1.04789501, ..., 1.83218282, 0.15207762,\n",
              "        0.42765624],\n",
              "       [1.11008649, 0.53855555, 1.04789501, ..., 1.52329287, 0.15207762,\n",
              "        0.42765624],\n",
              "       [1.11008649, 0.53855555, 1.04789501, ..., 0.80254967, 0.15207762,\n",
              "        0.42765624]])"
            ]
          },
          "metadata": {
            "tags": []
          },
          "execution_count": 41
        }
      ]
    },
    {
      "cell_type": "code",
      "metadata": {
        "colab": {
          "base_uri": "https://localhost:8080/"
        },
        "id": "fibE3QU9VZax",
        "outputId": "20fc661e-6f0e-4b10-ae66-1f2db75735e0"
      },
      "source": [
        "threshold=3\r\n",
        "print(np.where(z>3))"
      ],
      "execution_count": null,
      "outputs": [
        {
          "output_type": "stream",
          "text": [
            "(array([   7,    9,   14,   22,   23,  100,  103,  112,  149,  165,  166,\n",
            "        167,  179,  185,  186,  197,  207,  222,  223,  242,  248,  252,\n",
            "        264,  265,  290,  296,  305,  316,  325,  346,  351,  355,  361,\n",
            "        374,  377,  384,  453,  458,  466,  480,  510,  517,  522,  557,\n",
            "        595,  612,  634,  693,  702,  703,  704,  705,  706,  807,  819,\n",
            "        855,  856,  911,  944,  978,  980,  998, 1017, 1019, 1067, 1097,\n",
            "       1178, 1212, 1291, 1307, 1324, 1326, 1327, 1329, 1337, 1339, 1340,\n",
            "       1341, 1342, 1343, 1344, 1345, 1346, 1347, 1347, 1348, 1349, 1406,\n",
            "       1443, 1457, 1489, 1523, 1589, 1652, 1654, 1737, 1807, 1868, 2019,\n",
            "       2043, 2090, 2136, 2139, 2140, 2165, 2170, 2171, 2174, 2183, 2185,\n",
            "       2188, 2190, 2190, 2191, 2192, 2193, 2194, 2237, 2392, 2553, 2565,\n",
            "       2585, 2589, 2590, 2590, 2591, 2615, 2663, 2671, 2696, 2702, 2710,\n",
            "       2714, 2716, 2723, 2767, 2779, 2792, 2796, 2797, 2804, 2806, 2814,\n",
            "       2828, 2829, 2834, 2841, 2842, 2851, 2860, 2861, 2870, 2884, 2888,\n",
            "       2912, 2915, 2917, 2921, 2923, 2944, 2945, 3015, 3045, 3048, 3058,\n",
            "       3086, 3107, 3126, 3183, 3189, 3206, 3248, 3252, 3253, 3254, 3255,\n",
            "       3256, 3257, 3336, 3388, 3526, 3628, 3629, 3657, 3682, 3686, 3716,\n",
            "       3717, 3718, 3718, 3740, 3766, 3796, 3830, 3840, 3841, 3850, 3851,\n",
            "       3856, 3894, 3902, 3915, 3919, 3932, 3932, 3933, 3934, 3935, 3935,\n",
            "       3936, 3937, 3938, 3939, 3940, 3940, 4024, 4091, 4155, 4186, 4213,\n",
            "       4274, 4277, 4278, 4375, 4376, 4378, 4436, 4516, 4545, 4570]), array([8, 8, 8, 0, 0, 4, 8, 8, 8, 8, 8, 8, 8, 4, 8, 8, 8, 8, 8, 8, 8, 4,\n",
            "       8, 8, 8, 8, 8, 8, 4, 4, 8, 8, 8, 8, 8, 0, 8, 8, 8, 8, 8, 8, 8, 8,\n",
            "       8, 8, 8, 8, 0, 0, 0, 0, 0, 4, 8, 4, 4, 4, 8, 4, 8, 4, 4, 4, 8, 4,\n",
            "       8, 6, 6, 6, 6, 6, 8, 6, 6, 8, 8, 0, 0, 0, 0, 0, 0, 0, 6, 0, 0, 4,\n",
            "       4, 4, 4, 4, 4, 4, 4, 8, 8, 4, 4, 8, 6, 4, 8, 6, 6, 8, 8, 6, 6, 6,\n",
            "       6, 0, 6, 0, 0, 0, 0, 8, 4, 6, 6, 8, 0, 0, 8, 0, 4, 8, 8, 8, 4, 8,\n",
            "       4, 8, 8, 8, 4, 8, 8, 8, 8, 8, 8, 8, 8, 8, 8, 8, 8, 8, 8, 8, 8, 8,\n",
            "       8, 8, 8, 8, 8, 0, 0, 8, 8, 4, 8, 8, 8, 8, 8, 8, 8, 8, 0, 0, 0, 0,\n",
            "       0, 0, 4, 4, 4, 8, 8, 8, 4, 8, 8, 8, 4, 8, 8, 4, 8, 4, 6, 6, 8, 8,\n",
            "       6, 6, 6, 4, 6, 0, 6, 0, 0, 0, 8, 0, 0, 0, 0, 0, 6, 4, 8, 8, 4, 4,\n",
            "       4, 8, 8, 4, 4, 8, 4, 4, 8, 8]))\n"
          ],
          "name": "stdout"
        }
      ]
    },
    {
      "cell_type": "code",
      "metadata": {
        "id": "h6mRoeuMVkd5"
      },
      "source": [
        "ag_new=ag[(z<3).all(axis=1)]"
      ],
      "execution_count": null,
      "outputs": []
    },
    {
      "cell_type": "code",
      "metadata": {
        "colab": {
          "base_uri": "https://localhost:8080/"
        },
        "id": "kfCk_Do7V2iU",
        "outputId": "ef026c84-d2a2-4020-fca0-4a935296062b"
      },
      "source": [
        "print(ag.shape, '\\n',ag_new.shape)"
      ],
      "execution_count": null,
      "outputs": [
        {
          "output_type": "stream",
          "text": [
            "(4599, 9) \n",
            " (4376, 9)\n"
          ],
          "name": "stdout"
        }
      ]
    },
    {
      "cell_type": "markdown",
      "metadata": {
        "id": "ENiSkFH8WHgb"
      },
      "source": [
        "All outliers are Removed"
      ]
    },
    {
      "cell_type": "markdown",
      "metadata": {
        "id": "TncBMpVdWNY7"
      },
      "source": [
        "# **Model building**"
      ]
    },
    {
      "cell_type": "code",
      "metadata": {
        "id": "yxpJyBB-WCAs"
      },
      "source": [
        "#splitting data into input and output variable\r\n",
        "x=ag_new.drop(\"Crop_Damage\",axis=1) #separating independent and target variable\r\n",
        "y=ag_new[\"Crop_Damage\"]"
      ],
      "execution_count": null,
      "outputs": []
    },
    {
      "cell_type": "code",
      "metadata": {
        "colab": {
          "base_uri": "https://localhost:8080/"
        },
        "id": "dWrBIKl1WZNn",
        "outputId": "135c8870-8f6b-4bb1-8b1b-5eb59539fc6c"
      },
      "source": [
        "x.shape"
      ],
      "execution_count": null,
      "outputs": [
        {
          "output_type": "execute_result",
          "data": {
            "text/plain": [
              "(4376, 8)"
            ]
          },
          "metadata": {
            "tags": []
          },
          "execution_count": 46
        }
      ]
    },
    {
      "cell_type": "code",
      "metadata": {
        "colab": {
          "base_uri": "https://localhost:8080/"
        },
        "id": "wARHlDbnWnlK",
        "outputId": "9b4c8c04-89b5-4764-ab25-acd42c7f3e37"
      },
      "source": [
        "y.shape"
      ],
      "execution_count": null,
      "outputs": [
        {
          "output_type": "execute_result",
          "data": {
            "text/plain": [
              "(4376,)"
            ]
          },
          "metadata": {
            "tags": []
          },
          "execution_count": 47
        }
      ]
    },
    {
      "cell_type": "code",
      "metadata": {
        "id": "ZAwvo3QYWoyZ"
      },
      "source": [
        "#scaling in input variables\r\n",
        "from sklearn.preprocessing import StandardScaler\r\n",
        "ss=StandardScaler()\r\n",
        "x=ss.fit_transform(x)"
      ],
      "execution_count": null,
      "outputs": []
    },
    {
      "cell_type": "code",
      "metadata": {
        "id": "L53hzq4gWtTC"
      },
      "source": [
        "#Importing all the model library\r\n",
        "from sklearn.linear_model import LogisticRegression\r\n",
        "from sklearn.naive_bayes import GaussianNB\r\n",
        "from sklearn.svm import SVC\r\n",
        "from sklearn.tree import DecisionTreeClassifier\r\n",
        "from sklearn.neighbors import KNeighborsClassifier\r\n",
        "\r\n",
        "#importing boosting models\r\n",
        "from sklearn.ensemble import RandomForestClassifier\r\n",
        "from sklearn.ensemble import AdaBoostClassifier\r\n",
        "from sklearn.ensemble import GradientBoostingClassifier\r\n",
        "from sklearn.ensemble import BaggingClassifier\r\n",
        "from sklearn.ensemble import ExtraTreesClassifier\r\n",
        "\r\n",
        "#importing error metrics \r\n",
        "from sklearn.metrics import accuracy_score,confusion_matrix,classification_report\r\n",
        "from sklearn.model_selection import train_test_split,cross_val_score"
      ],
      "execution_count": null,
      "outputs": []
    },
    {
      "cell_type": "code",
      "metadata": {
        "id": "ruZEJvqHWxpG"
      },
      "source": [
        "#Splittinfg the data into training and testing data\r\n",
        "from sklearn.model_selection import train_test_split\r\n",
        "x_train,x_test,y_train,y_test=train_test_split(x,y,test_size=.20,random_state=42,stratify=y)"
      ],
      "execution_count": null,
      "outputs": []
    },
    {
      "cell_type": "code",
      "metadata": {
        "colab": {
          "base_uri": "https://localhost:8080/"
        },
        "id": "FuqP9rYnW009",
        "outputId": "3a783656-f7e0-40f0-b726-c652804bffee"
      },
      "source": [
        "#All Algorithm by using for loop\r\n",
        "\r\n",
        "model=[LogisticRegression(),GaussianNB(),SVC(),DecisionTreeClassifier(),KNeighborsClassifier(),RandomForestClassifier(),AdaBoostClassifier(),GradientBoostingClassifier(),BaggingClassifier(),ExtraTreesClassifier()]\r\n",
        "\r\n",
        "for m in model:\r\n",
        "  m.fit(x_train,y_train)\r\n",
        "  m.score(x_test,y_test)\r\n",
        "  predm=m.predict(x_test)\r\n",
        "  print('Accuracy score of',m,'is')\r\n",
        "  print(accuracy_score(y_test,predm))\r\n",
        "  print(confusion_matrix(y_test,predm))\r\n",
        "  print('*********************************************************************************************************************************')\r\n",
        "  print('\\n')"
      ],
      "execution_count": null,
      "outputs": [
        {
          "output_type": "stream",
          "text": [
            "Accuracy score of LogisticRegression(C=1.0, class_weight=None, dual=False, fit_intercept=True,\n",
            "                   intercept_scaling=1, l1_ratio=None, max_iter=100,\n",
            "                   multi_class='auto', n_jobs=None, penalty='l2',\n",
            "                   random_state=None, solver='lbfgs', tol=0.0001, verbose=0,\n",
            "                   warm_start=False) is\n",
            "0.8573059360730594\n",
            "[[740   7]\n",
            " [118  11]]\n",
            "*********************************************************************************************************************************\n",
            "\n",
            "\n",
            "Accuracy score of GaussianNB(priors=None, var_smoothing=1e-09) is\n",
            "0.8470319634703196\n",
            "[[706  41]\n",
            " [ 93  36]]\n",
            "*********************************************************************************************************************************\n",
            "\n",
            "\n",
            "Accuracy score of SVC(C=1.0, break_ties=False, cache_size=200, class_weight=None, coef0=0.0,\n",
            "    decision_function_shape='ovr', degree=3, gamma='scale', kernel='rbf',\n",
            "    max_iter=-1, probability=False, random_state=None, shrinking=True,\n",
            "    tol=0.001, verbose=False) is\n",
            "0.8618721461187214\n",
            "[[746   1]\n",
            " [120   9]]\n",
            "*********************************************************************************************************************************\n",
            "\n",
            "\n",
            "Accuracy score of DecisionTreeClassifier(ccp_alpha=0.0, class_weight=None, criterion='gini',\n",
            "                       max_depth=None, max_features=None, max_leaf_nodes=None,\n",
            "                       min_impurity_decrease=0.0, min_impurity_split=None,\n",
            "                       min_samples_leaf=1, min_samples_split=2,\n",
            "                       min_weight_fraction_leaf=0.0, presort='deprecated',\n",
            "                       random_state=None, splitter='best') is\n",
            "0.7831050228310502\n",
            "[[645 102]\n",
            " [ 88  41]]\n",
            "*********************************************************************************************************************************\n",
            "\n",
            "\n",
            "Accuracy score of KNeighborsClassifier(algorithm='auto', leaf_size=30, metric='minkowski',\n",
            "                     metric_params=None, n_jobs=None, n_neighbors=5, p=2,\n",
            "                     weights='uniform') is\n",
            "0.8470319634703196\n",
            "[[710  37]\n",
            " [ 97  32]]\n",
            "*********************************************************************************************************************************\n",
            "\n",
            "\n",
            "Accuracy score of RandomForestClassifier(bootstrap=True, ccp_alpha=0.0, class_weight=None,\n",
            "                       criterion='gini', max_depth=None, max_features='auto',\n",
            "                       max_leaf_nodes=None, max_samples=None,\n",
            "                       min_impurity_decrease=0.0, min_impurity_split=None,\n",
            "                       min_samples_leaf=1, min_samples_split=2,\n",
            "                       min_weight_fraction_leaf=0.0, n_estimators=100,\n",
            "                       n_jobs=None, oob_score=False, random_state=None,\n",
            "                       verbose=0, warm_start=False) is\n",
            "0.8618721461187214\n",
            "[[725  22]\n",
            " [ 99  30]]\n",
            "*********************************************************************************************************************************\n",
            "\n",
            "\n",
            "Accuracy score of AdaBoostClassifier(algorithm='SAMME.R', base_estimator=None, learning_rate=1.0,\n",
            "                   n_estimators=50, random_state=None) is\n",
            "0.8595890410958904\n",
            "[[736  11]\n",
            " [112  17]]\n",
            "*********************************************************************************************************************************\n",
            "\n",
            "\n",
            "Accuracy score of GradientBoostingClassifier(ccp_alpha=0.0, criterion='friedman_mse', init=None,\n",
            "                           learning_rate=0.1, loss='deviance', max_depth=3,\n",
            "                           max_features=None, max_leaf_nodes=None,\n",
            "                           min_impurity_decrease=0.0, min_impurity_split=None,\n",
            "                           min_samples_leaf=1, min_samples_split=2,\n",
            "                           min_weight_fraction_leaf=0.0, n_estimators=100,\n",
            "                           n_iter_no_change=None, presort='deprecated',\n",
            "                           random_state=None, subsample=1.0, tol=0.0001,\n",
            "                           validation_fraction=0.1, verbose=0,\n",
            "                           warm_start=False) is\n",
            "0.8595890410958904\n",
            "[[736  11]\n",
            " [112  17]]\n",
            "*********************************************************************************************************************************\n",
            "\n",
            "\n",
            "Accuracy score of BaggingClassifier(base_estimator=None, bootstrap=True, bootstrap_features=False,\n",
            "                  max_features=1.0, max_samples=1.0, n_estimators=10,\n",
            "                  n_jobs=None, oob_score=False, random_state=None, verbose=0,\n",
            "                  warm_start=False) is\n",
            "0.8481735159817352\n",
            "[[714  33]\n",
            " [100  29]]\n",
            "*********************************************************************************************************************************\n",
            "\n",
            "\n",
            "Accuracy score of ExtraTreesClassifier(bootstrap=False, ccp_alpha=0.0, class_weight=None,\n",
            "                     criterion='gini', max_depth=None, max_features='auto',\n",
            "                     max_leaf_nodes=None, max_samples=None,\n",
            "                     min_impurity_decrease=0.0, min_impurity_split=None,\n",
            "                     min_samples_leaf=1, min_samples_split=2,\n",
            "                     min_weight_fraction_leaf=0.0, n_estimators=100,\n",
            "                     n_jobs=None, oob_score=False, random_state=None, verbose=0,\n",
            "                     warm_start=False) is\n",
            "0.8538812785388128\n",
            "[[714  33]\n",
            " [ 95  34]]\n",
            "*********************************************************************************************************************************\n",
            "\n",
            "\n"
          ],
          "name": "stdout"
        }
      ]
    },
    {
      "cell_type": "code",
      "metadata": {
        "id": "Khqn2xtiW5kX"
      },
      "source": [
        ""
      ],
      "execution_count": null,
      "outputs": []
    },
    {
      "cell_type": "markdown",
      "metadata": {
        "id": "42aUWlKHXDZo"
      },
      "source": [
        "# **Finding best Parameters Using GridSearchCV**"
      ]
    },
    {
      "cell_type": "markdown",
      "metadata": {
        "id": "nn7qNFyhXMJl"
      },
      "source": [
        "**Logistic Regression**"
      ]
    },
    {
      "cell_type": "code",
      "metadata": {
        "colab": {
          "base_uri": "https://localhost:8080/"
        },
        "id": "EI-Jnxi_XI2Q",
        "outputId": "af3203ad-17ab-4995-8c22-d248a4fa2ba4"
      },
      "source": [
        "from sklearn.model_selection import GridSearchCV\r\n",
        "parameters={'C':[1,10],'random_state':range(42,100)}\r\n",
        "lr=LogisticRegression()\r\n",
        "\r\n",
        "clf=GridSearchCV(lr,parameters)\r\n",
        "clf.fit(x,y)\r\n",
        "print(clf.best_params_)"
      ],
      "execution_count": null,
      "outputs": [
        {
          "output_type": "stream",
          "text": [
            "{'C': 1, 'random_state': 42}\n"
          ],
          "name": "stdout"
        }
      ]
    },
    {
      "cell_type": "code",
      "metadata": {
        "colab": {
          "base_uri": "https://localhost:8080/"
        },
        "id": "v9bqlhBsXWKE",
        "outputId": "2242bb8f-8c5d-41b1-d0d7-99ddbb9b76d7"
      },
      "source": [
        "#Logistic Regression with Best parameters\r\n",
        "\r\n",
        "lr=LogisticRegression(C=1,random_state=42)\r\n",
        "lr.fit(x_train,y_train)\r\n",
        "lr.score(x_train,y_train)\r\n",
        "predlr=lr.predict(x_test)\r\n",
        "print(accuracy_score(y_test,predlr))\r\n",
        "print(classification_report(y_test,predlr))"
      ],
      "execution_count": null,
      "outputs": [
        {
          "output_type": "stream",
          "text": [
            "0.8573059360730594\n",
            "              precision    recall  f1-score   support\n",
            "\n",
            "           0       0.86      0.99      0.92       747\n",
            "           1       0.61      0.09      0.15       129\n",
            "\n",
            "    accuracy                           0.86       876\n",
            "   macro avg       0.74      0.54      0.54       876\n",
            "weighted avg       0.83      0.86      0.81       876\n",
            "\n"
          ],
          "name": "stdout"
        }
      ]
    },
    {
      "cell_type": "code",
      "metadata": {
        "colab": {
          "base_uri": "https://localhost:8080/"
        },
        "id": "D8IPUlWFXct4",
        "outputId": "5d57bee6-f274-471a-ec9b-9454925db6af"
      },
      "source": [
        "#cross validate Logistic Regression\r\n",
        "\r\n",
        "score=cross_val_score(lr,x,y,cv=5,scoring='accuracy')\r\n",
        "\r\n",
        "print(score)\r\n",
        "print('Mean:',score.mean())\r\n",
        "print('Std',score.std())"
      ],
      "execution_count": null,
      "outputs": [
        {
          "output_type": "stream",
          "text": [
            "[0.81278539 0.85371429 0.85371429 0.84457143 0.85485714]\n",
            "Mean: 0.8439285061969993\n",
            "Std 0.016007905628280028\n"
          ],
          "name": "stdout"
        }
      ]
    },
    {
      "cell_type": "markdown",
      "metadata": {
        "id": "hUl7wvUiXlfh"
      },
      "source": [
        "**SVM**"
      ]
    },
    {
      "cell_type": "code",
      "metadata": {
        "colab": {
          "base_uri": "https://localhost:8080/"
        },
        "id": "ULnUrP-aXkZz",
        "outputId": "204e15a5-55fc-4e14-b84d-b035fdf319c9"
      },
      "source": [
        "parameters={'kernel':('linear','rbf','poly','sigmoid'),'C':[1,10],'random_state':range(42,60)}\r\n",
        "svc=SVC()\r\n",
        "\r\n",
        "clf=GridSearchCV(svc,parameters)\r\n",
        "clf.fit(x,y)\r\n",
        "print(clf.best_params_)"
      ],
      "execution_count": null,
      "outputs": [
        {
          "output_type": "stream",
          "text": [
            "{'C': 1, 'kernel': 'poly', 'random_state': 42}\n"
          ],
          "name": "stdout"
        }
      ]
    },
    {
      "cell_type": "code",
      "metadata": {
        "colab": {
          "base_uri": "https://localhost:8080/"
        },
        "id": "NlUGjIsnXv9h",
        "outputId": "67e7b652-64b5-45d1-9d30-b72256125321"
      },
      "source": [
        "#SVM with Best parameters\r\n",
        "\r\n",
        "svc=SVC(kernel='poly',C=1,random_state=42,probability=True)\r\n",
        "svc.fit(x_train,y_train)\r\n",
        "svc.score(x_train,y_train)\r\n",
        "predsvc=svc.predict(x_test)\r\n",
        "print(accuracy_score(y_test,predsvc))\r\n",
        "print(classification_report(y_test,predsvc))"
      ],
      "execution_count": null,
      "outputs": [
        {
          "output_type": "stream",
          "text": [
            "0.860730593607306\n",
            "              precision    recall  f1-score   support\n",
            "\n",
            "           0       0.86      1.00      0.92       747\n",
            "           1       0.89      0.06      0.12       129\n",
            "\n",
            "    accuracy                           0.86       876\n",
            "   macro avg       0.87      0.53      0.52       876\n",
            "weighted avg       0.86      0.86      0.81       876\n",
            "\n"
          ],
          "name": "stdout"
        }
      ]
    },
    {
      "cell_type": "code",
      "metadata": {
        "colab": {
          "base_uri": "https://localhost:8080/"
        },
        "id": "WRMGSsuxX52z",
        "outputId": "1f7215c9-4682-4fed-f636-bad9ad9a0a23"
      },
      "source": [
        "#cross validate SVM\r\n",
        "\r\n",
        "score=cross_val_score(svc,x,y,cv=5,scoring='accuracy')\r\n",
        "\r\n",
        "print(score)\r\n",
        "print('Mean:',score.mean())\r\n",
        "print('Std',score.std())"
      ],
      "execution_count": null,
      "outputs": [
        {
          "output_type": "stream",
          "text": [
            "[0.8652968  0.85371429 0.85942857 0.85371429 0.85257143]\n",
            "Mean: 0.8569450750163078\n",
            "Std 0.004815057796186081\n"
          ],
          "name": "stdout"
        }
      ]
    },
    {
      "cell_type": "markdown",
      "metadata": {
        "id": "Td1lJhNUX9z3"
      },
      "source": [
        "**K Neighbors Classifier**"
      ]
    },
    {
      "cell_type": "code",
      "metadata": {
        "colab": {
          "base_uri": "https://localhost:8080/"
        },
        "id": "TZtkGmPWX-J_",
        "outputId": "f179e0f6-9dea-4c94-8f7c-21205c63a834"
      },
      "source": [
        "parameters={'n_neighbors':range(22,25)}\r\n",
        "knn=KNeighborsClassifier()\r\n",
        "\r\n",
        "clf=GridSearchCV(knn,parameters)\r\n",
        "clf.fit(x,y)\r\n",
        "print(clf.best_params_)"
      ],
      "execution_count": null,
      "outputs": [
        {
          "output_type": "stream",
          "text": [
            "{'n_neighbors': 22}\n"
          ],
          "name": "stdout"
        }
      ]
    },
    {
      "cell_type": "code",
      "metadata": {
        "colab": {
          "base_uri": "https://localhost:8080/"
        },
        "id": "0ZDtRXkTYDj9",
        "outputId": "8cfacfb7-aaf5-4bc1-b5e2-e66694752f65"
      },
      "source": [
        "#KNeighborsClassifier with Best parameters\r\n",
        "\r\n",
        "knn=KNeighborsClassifier(n_neighbors=22)\r\n",
        "knn.fit(x_train,y_train)\r\n",
        "knn.score(x_train,y_train)\r\n",
        "predknn=knn.predict(x_test)\r\n",
        "print(accuracy_score(y_test,predknn))\r\n",
        "print(classification_report(y_test,predknn))"
      ],
      "execution_count": null,
      "outputs": [
        {
          "output_type": "stream",
          "text": [
            "0.8573059360730594\n",
            "              precision    recall  f1-score   support\n",
            "\n",
            "           0       0.86      0.99      0.92       747\n",
            "           1       0.60      0.09      0.16       129\n",
            "\n",
            "    accuracy                           0.86       876\n",
            "   macro avg       0.73      0.54      0.54       876\n",
            "weighted avg       0.82      0.86      0.81       876\n",
            "\n"
          ],
          "name": "stdout"
        }
      ]
    },
    {
      "cell_type": "code",
      "metadata": {
        "colab": {
          "base_uri": "https://localhost:8080/"
        },
        "id": "2Zhc9r3IYGer",
        "outputId": "daa0dd9f-c32d-45a0-85f4-a50f5b12c3b4"
      },
      "source": [
        "#cross validate KNeighborsClassifier\r\n",
        "\r\n",
        "score=cross_val_score(knn,x,y,cv=5,scoring='accuracy')\r\n",
        "\r\n",
        "print(score)\r\n",
        "print('Mean:',score.mean())\r\n",
        "print('Std',score.std())"
      ],
      "execution_count": null,
      "outputs": [
        {
          "output_type": "stream",
          "text": [
            "[0.83447489 0.85371429 0.85142857 0.85371429 0.85257143]\n",
            "Mean: 0.849180691454664\n",
            "Std 0.007401590842926431\n"
          ],
          "name": "stdout"
        }
      ]
    },
    {
      "cell_type": "markdown",
      "metadata": {
        "id": "88PmvsmgYJzw"
      },
      "source": [
        "**GaussianNB**"
      ]
    },
    {
      "cell_type": "code",
      "metadata": {
        "colab": {
          "base_uri": "https://localhost:8080/"
        },
        "id": "PlwrpW3_YJ_2",
        "outputId": "73329f98-9e2a-4d85-9420-c15e00d743f6"
      },
      "source": [
        "gnb=GaussianNB()\r\n",
        "gnb.fit(x_train,y_train)\r\n",
        "gnb.score(x_train,y_train)\r\n",
        "predgnb=gnb.predict(x_test)\r\n",
        "print(accuracy_score(y_test,predgnb))\r\n",
        "print(confusion_matrix(y_test,predgnb))\r\n",
        "print(classification_report(y_test,predgnb))"
      ],
      "execution_count": null,
      "outputs": [
        {
          "output_type": "stream",
          "text": [
            "0.8470319634703196\n",
            "[[706  41]\n",
            " [ 93  36]]\n",
            "              precision    recall  f1-score   support\n",
            "\n",
            "           0       0.88      0.95      0.91       747\n",
            "           1       0.47      0.28      0.35       129\n",
            "\n",
            "    accuracy                           0.85       876\n",
            "   macro avg       0.68      0.61      0.63       876\n",
            "weighted avg       0.82      0.85      0.83       876\n",
            "\n"
          ],
          "name": "stdout"
        }
      ]
    },
    {
      "cell_type": "code",
      "metadata": {
        "colab": {
          "base_uri": "https://localhost:8080/"
        },
        "id": "I-E4j1E3YO89",
        "outputId": "b2231096-434e-448a-cab0-4a0d53df68f1"
      },
      "source": [
        "#cross validate Gaussion\r\n",
        "\r\n",
        "score=cross_val_score(gnb,x,y,cv=5,scoring='accuracy')\r\n",
        "\r\n",
        "print(score)\r\n",
        "print('Mean:',score.mean())\r\n",
        "print('Std',score.std())"
      ],
      "execution_count": null,
      "outputs": [
        {
          "output_type": "stream",
          "text": [
            "[0.61415525 0.85371429 0.832      0.79428571 0.864     ]\n",
            "Mean: 0.7916310502283105\n",
            "Std 0.09189771665049627\n"
          ],
          "name": "stdout"
        }
      ]
    },
    {
      "cell_type": "markdown",
      "metadata": {
        "id": "kF7jd_QyYTMF"
      },
      "source": [
        "**Decision Tree Classifier**"
      ]
    },
    {
      "cell_type": "code",
      "metadata": {
        "colab": {
          "base_uri": "https://localhost:8080/"
        },
        "id": "ivxRKb4pYTWW",
        "outputId": "b95f3050-6683-41b5-81cc-55377785e77b"
      },
      "source": [
        "dt=DecisionTreeClassifier()\r\n",
        "dt.fit(x_train,y_train)\r\n",
        "dt.score(x_train,y_train)\r\n",
        "preddt=dt.predict(x_test)\r\n",
        "print(accuracy_score(y_test,preddt))\r\n",
        "print(confusion_matrix(y_test,preddt))\r\n",
        "print(classification_report(y_test,preddt))"
      ],
      "execution_count": null,
      "outputs": [
        {
          "output_type": "stream",
          "text": [
            "0.7705479452054794\n",
            "[[634 113]\n",
            " [ 88  41]]\n",
            "              precision    recall  f1-score   support\n",
            "\n",
            "           0       0.88      0.85      0.86       747\n",
            "           1       0.27      0.32      0.29       129\n",
            "\n",
            "    accuracy                           0.77       876\n",
            "   macro avg       0.57      0.58      0.58       876\n",
            "weighted avg       0.79      0.77      0.78       876\n",
            "\n"
          ],
          "name": "stdout"
        }
      ]
    },
    {
      "cell_type": "code",
      "metadata": {
        "colab": {
          "base_uri": "https://localhost:8080/"
        },
        "id": "o59uF2dxYWtO",
        "outputId": "02839d18-7e6a-44f8-9362-789678b89d33"
      },
      "source": [
        "#cross validate Decision Tree Classifier\r\n",
        "\r\n",
        "score=cross_val_score(dt,x,y,cv=5,scoring='accuracy')\r\n",
        "\r\n",
        "print(score)\r\n",
        "print('Mean:',score.mean())\r\n",
        "print('Std',score.std())"
      ],
      "execution_count": null,
      "outputs": [
        {
          "output_type": "stream",
          "text": [
            "[0.74200913 0.76       0.728      0.72342857 0.768     ]\n",
            "Mean: 0.7442875407697326\n",
            "Std 0.017405366004303553\n"
          ],
          "name": "stdout"
        }
      ]
    },
    {
      "cell_type": "markdown",
      "metadata": {
        "id": "Ou2BnpddYXy9"
      },
      "source": [
        "**Random Forest Classifier**"
      ]
    },
    {
      "cell_type": "code",
      "metadata": {
        "colab": {
          "base_uri": "https://localhost:8080/"
        },
        "id": "aOFl6ZdkZOX-",
        "outputId": "552e762e-f495-4dcb-aac4-06e185f3485f"
      },
      "source": [
        "rfc=RandomForestClassifier()\r\n",
        "rfc.fit(x_train,y_train)\r\n",
        "rfc.score(x_train,y_train)\r\n",
        "predrfc=rfc.predict(x_test)\r\n",
        "print(accuracy_score(y_test,predrfc))\r\n",
        "print(confusion_matrix(y_test,predrfc))\r\n",
        "print(classification_report(y_test,predrfc))"
      ],
      "execution_count": null,
      "outputs": [
        {
          "output_type": "stream",
          "text": [
            "0.867579908675799\n",
            "[[725  22]\n",
            " [ 94  35]]\n",
            "              precision    recall  f1-score   support\n",
            "\n",
            "           0       0.89      0.97      0.93       747\n",
            "           1       0.61      0.27      0.38       129\n",
            "\n",
            "    accuracy                           0.87       876\n",
            "   macro avg       0.75      0.62      0.65       876\n",
            "weighted avg       0.85      0.87      0.84       876\n",
            "\n"
          ],
          "name": "stdout"
        }
      ]
    },
    {
      "cell_type": "code",
      "metadata": {
        "colab": {
          "base_uri": "https://localhost:8080/"
        },
        "id": "c6Zv9xP9ZYZl",
        "outputId": "4faf351f-57ad-4b5a-aedb-19885ea42bd2"
      },
      "source": [
        "#cross validate Random Forest Classifier\r\n",
        "\r\n",
        "score=cross_val_score(rfc,x,y,cv=5,scoring='accuracy')\r\n",
        "\r\n",
        "print(score)\r\n",
        "print('Mean:',score.mean())\r\n",
        "print('Std',score.std())"
      ],
      "execution_count": null,
      "outputs": [
        {
          "output_type": "stream",
          "text": [
            "[0.80821918 0.85028571 0.84914286 0.82171429 0.84342857]\n",
            "Mean: 0.8345581213307242\n",
            "Std 0.016718017996146962\n"
          ],
          "name": "stdout"
        }
      ]
    },
    {
      "cell_type": "markdown",
      "metadata": {
        "id": "QcVwot8xZ5hN"
      },
      "source": [
        "## **Among All above Models Random Forest Classifier gives the highest score so we adopt SVM as our final model**"
      ]
    },
    {
      "cell_type": "markdown",
      "metadata": {
        "id": "XA-oGTt2aQaJ"
      },
      "source": [
        "**bold text**"
      ]
    },
    {
      "cell_type": "code",
      "metadata": {
        "colab": {
          "base_uri": "https://localhost:8080/",
          "height": 281
        },
        "id": "7DRlVx9UaIlP",
        "outputId": "3e464edf-e94e-4d88-bad6-b795c4504c19"
      },
      "source": [
        "#plotting confusion Matrix of svm\r\n",
        "cm=confusion_matrix(y_test,predsvc)\r\n",
        "sns.heatmap(cm,annot=True,cbar=False,cmap='coolwarm')\r\n",
        "\r\n",
        "plt.title(\"confusion Matrix of SVM\")\r\n",
        "plt.show()"
      ],
      "execution_count": null,
      "outputs": [
        {
          "output_type": "display_data",
          "data": {
            "image/png": "[encoded data removed]",
            "text/plain": [
              "<Figure size 432x288 with 1 Axes>"
            ]
          },
          "metadata": {
            "tags": [],
            "needs_background": "light"
          }
        }
      ]
    },
    {
      "cell_type": "code",
      "metadata": {
        "colab": {
          "base_uri": "https://localhost:8080/",
          "height": 295
        },
        "id": "URcFpUraaPvy",
        "outputId": "b40c176b-7430-4726-8737-ae25f56084b5"
      },
      "source": [
        "from sklearn.metrics import roc_curve, auc\r\n",
        "fpr, tpr, thresholds = roc_curve(predsvc, y_test)\r\n",
        "roc_auc=auc(fpr,tpr)\r\n",
        "\r\n",
        "plt.figure()\r\n",
        "plt.plot(fpr,tpr,color='darkorange',lw=10,label='Roc curve (area=%0.2f)'%roc_auc)\r\n",
        "plt.plot([0, 1], [0, 1],color='navy',lw=10,linestyle='--')\r\n",
        "plt.xlim([0.0, 1.0])\r\n",
        "plt.ylim([0.0, 1.05])\r\n",
        "plt.xlabel('False positive rate')\r\n",
        "plt.ylabel('True positive rate')\r\n",
        "plt.title('ROC curve for agriculture dataset classifier')\r\n",
        "plt.legend(loc=\"lower right\")\r\n",
        "plt.show()"
      ],
      "execution_count": 85,
      "outputs": [
        {
          "output_type": "display_data",
          "data": {
            "image/png": "[encoded data removed]",
            "text/plain": [
              "<Figure size 432x288 with 1 Axes>"
            ]
          },
          "metadata": {
            "tags": [],
            "needs_background": "light"
          }
        }
      ]
    },
    {
      "cell_type": "markdown",
      "metadata": {
        "id": "GLOeiUqLbRIe"
      },
      "source": [
        "**Saving our best Model**"
      ]
    },
    {
      "cell_type": "code",
      "metadata": {
        "id": "NWRfJmKga8xn"
      },
      "source": [
        "#save the model as a pickle file\r\n",
        "import pickle\r\n",
        "pickle.dump(svc, open('agriculture_train', 'wb'))"
      ],
      "execution_count": null,
      "outputs": []
    },
    {
      "cell_type": "markdown",
      "metadata": {
        "id": "ZwxY-QgtfEDE"
      },
      "source": [
        "# **Using the Test dataset**"
      ]
    },
    {
      "cell_type": "code",
      "metadata": {
        "id": "7uQvb6rtfL5Q",
        "colab": {
          "resources": {
            "http://localhost:8080/nbextensions/google.colab/files.js": {
              "data": "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",
              "ok": true,
              "headers": [
                [
                  "content-type",
                  "application/javascript"
                ]
              ],
              "status": 200,
              "status_text": ""
            }
          },
          "base_uri": "https://localhost:8080/",
          "height": 72
        },
        "outputId": "1ec12bf1-6e3a-4e9a-f43d-6a7ffa9feaaa"
      },
      "source": [
        "#loading the test dataset\r\n",
        "from google.colab import files\r\n",
        "testuploaded = files.upload()"
      ],
      "execution_count": null,
      "outputs": [
        {
          "output_type": "display_data",
          "data": {
            "text/html": [
              "\n",
              "     <input type=\"file\" id=\"files-eb12081a-65f7-445e-8a84-acf1b124f1d9\" name=\"files[]\" multiple disabled\n",
              "        style=\"border:none\" />\n",
              "     <output id=\"result-eb12081a-65f7-445e-8a84-acf1b124f1d9\">\n",
              "      Upload widget is only available when the cell has been executed in the\n",
              "      current browser session. Please rerun this cell to enable.\n",
              "      </output>\n",
              "      <script src=\"/nbextensions/google.colab/files.js\"></script> "
            ],
            "text/plain": [
              "<IPython.core.display.HTML object>"
            ]
          },
          "metadata": {
            "tags": []
          }
        },
        {
          "output_type": "stream",
          "text": [
            "Saving testagriculture.csv to testagriculture (1).csv\n"
          ],
          "name": "stdout"
        }
      ]
    },
    {
      "cell_type": "code",
      "metadata": {
        "id": "I513FcMPfWDs"
      },
      "source": [
        "import io\r\n",
        "test_ag= pd.read_csv(io.BytesIO(testuploaded['testagriculture.csv']))"
      ],
      "execution_count": null,
      "outputs": []
    },
    {
      "cell_type": "code",
      "metadata": {
        "id": "nNgm1lLDflUl",
        "colab": {
          "base_uri": "https://localhost:8080/",
          "height": 224
        },
        "outputId": "f18a58b8-bd03-4dcb-f57e-cc59286617fd"
      },
      "source": [
        "test_ag.head()"
      ],
      "execution_count": null,
      "outputs": [
        {
          "output_type": "execute_result",
          "data": {
            "text/html": [
              "<div>\n",
              "<style scoped>\n",
              "    .dataframe tbody tr th:only-of-type {\n",
              "        vertical-align: middle;\n",
              "    }\n",
              "\n",
              "    .dataframe tbody tr th {\n",
              "        vertical-align: top;\n",
              "    }\n",
              "\n",
              "    .dataframe thead th {\n",
              "        text-align: right;\n",
              "    }\n",
              "</style>\n",
              "<table border=\"1\" class=\"dataframe\">\n",
              "  <thead>\n",
              "    <tr style=\"text-align: right;\">\n",
              "      <th></th>\n",
              "      <th>ID</th>\n",
              "      <th>Estimated_Insects_Count</th>\n",
              "      <th>Crop_Type</th>\n",
              "      <th>Soil_Type</th>\n",
              "      <th>Pesticide_Use_Category</th>\n",
              "      <th>Number_Doses_Week</th>\n",
              "      <th>Number_Weeks_Used</th>\n",
              "      <th>Number_Weeks_Quit</th>\n",
              "      <th>Season</th>\n",
              "    </tr>\n",
              "  </thead>\n",
              "  <tbody>\n",
              "    <tr>\n",
              "      <th>0</th>\n",
              "      <td>F00000002</td>\n",
              "      <td>188</td>\n",
              "      <td>1</td>\n",
              "      <td>1</td>\n",
              "      <td>1</td>\n",
              "      <td>0</td>\n",
              "      <td>NaN</td>\n",
              "      <td>0</td>\n",
              "      <td>2</td>\n",
              "    </tr>\n",
              "    <tr>\n",
              "      <th>1</th>\n",
              "      <td>F00000007</td>\n",
              "      <td>410</td>\n",
              "      <td>1</td>\n",
              "      <td>1</td>\n",
              "      <td>1</td>\n",
              "      <td>0</td>\n",
              "      <td>0.0</td>\n",
              "      <td>0</td>\n",
              "      <td>2</td>\n",
              "    </tr>\n",
              "    <tr>\n",
              "      <th>2</th>\n",
              "      <td>F00000011</td>\n",
              "      <td>626</td>\n",
              "      <td>1</td>\n",
              "      <td>0</td>\n",
              "      <td>1</td>\n",
              "      <td>0</td>\n",
              "      <td>0.0</td>\n",
              "      <td>0</td>\n",
              "      <td>2</td>\n",
              "    </tr>\n",
              "    <tr>\n",
              "      <th>3</th>\n",
              "      <td>F00000013</td>\n",
              "      <td>731</td>\n",
              "      <td>1</td>\n",
              "      <td>0</td>\n",
              "      <td>1</td>\n",
              "      <td>0</td>\n",
              "      <td>0.0</td>\n",
              "      <td>0</td>\n",
              "      <td>2</td>\n",
              "    </tr>\n",
              "    <tr>\n",
              "      <th>4</th>\n",
              "      <td>F00000014</td>\n",
              "      <td>789</td>\n",
              "      <td>0</td>\n",
              "      <td>0</td>\n",
              "      <td>1</td>\n",
              "      <td>0</td>\n",
              "      <td>0.0</td>\n",
              "      <td>0</td>\n",
              "      <td>1</td>\n",
              "    </tr>\n",
              "  </tbody>\n",
              "</table>\n",
              "</div>"
            ],
            "text/plain": [
              "          ID  Estimated_Insects_Count  ...  Number_Weeks_Quit  Season\n",
              "0  F00000002                      188  ...                  0       2\n",
              "1  F00000007                      410  ...                  0       2\n",
              "2  F00000011                      626  ...                  0       2\n",
              "3  F00000013                      731  ...                  0       2\n",
              "4  F00000014                      789  ...                  0       1\n",
              "\n",
              "[5 rows x 9 columns]"
            ]
          },
          "metadata": {
            "tags": []
          },
          "execution_count": 72
        }
      ]
    },
    {
      "cell_type": "code",
      "metadata": {
        "id": "UIFXcO7Dg2Lw",
        "colab": {
          "base_uri": "https://localhost:8080/"
        },
        "outputId": "1d5ae5cf-c950-4bd1-921a-64b3f735c8c7"
      },
      "source": [
        "test_ag.shape"
      ],
      "execution_count": null,
      "outputs": [
        {
          "output_type": "execute_result",
          "data": {
            "text/plain": [
              "(1199, 9)"
            ]
          },
          "metadata": {
            "tags": []
          },
          "execution_count": 73
        }
      ]
    },
    {
      "cell_type": "code",
      "metadata": {
        "id": "OmsXRvuYg5wf",
        "colab": {
          "base_uri": "https://localhost:8080/"
        },
        "outputId": "960bcae5-242b-45b2-eb22-64d1ec735ddc"
      },
      "source": [
        "#preprocessing pipeline\r\n",
        "test_ag.isnull().sum()"
      ],
      "execution_count": null,
      "outputs": [
        {
          "output_type": "execute_result",
          "data": {
            "text/plain": [
              "ID                           0\n",
              "Estimated_Insects_Count      0\n",
              "Crop_Type                    0\n",
              "Soil_Type                    0\n",
              "Pesticide_Use_Category       0\n",
              "Number_Doses_Week            0\n",
              "Number_Weeks_Used          119\n",
              "Number_Weeks_Quit            0\n",
              "Season                       0\n",
              "dtype: int64"
            ]
          },
          "metadata": {
            "tags": []
          },
          "execution_count": 74
        }
      ]
    },
    {
      "cell_type": "markdown",
      "metadata": {
        "id": "CvuzlfLoh0nG"
      },
      "source": [
        "we have to remove nan values"
      ]
    },
    {
      "cell_type": "code",
      "metadata": {
        "id": "zNdq4XA-hN6g"
      },
      "source": [
        "test_ag['Number_Weeks_Used'] = test_ag['Number_Weeks_Used'].replace(np.nan, 0)"
      ],
      "execution_count": null,
      "outputs": []
    },
    {
      "cell_type": "code",
      "metadata": {
        "id": "qW-Vo9lDho5W",
        "colab": {
          "base_uri": "https://localhost:8080/"
        },
        "outputId": "d4da09fb-7ac1-4610-af19-41de20827691"
      },
      "source": [
        "test_ag.isnull().sum()"
      ],
      "execution_count": null,
      "outputs": [
        {
          "output_type": "execute_result",
          "data": {
            "text/plain": [
              "ID                         0\n",
              "Estimated_Insects_Count    0\n",
              "Crop_Type                  0\n",
              "Soil_Type                  0\n",
              "Pesticide_Use_Category     0\n",
              "Number_Doses_Week          0\n",
              "Number_Weeks_Used          0\n",
              "Number_Weeks_Quit          0\n",
              "Season                     0\n",
              "dtype: int64"
            ]
          },
          "metadata": {
            "tags": []
          },
          "execution_count": 76
        }
      ]
    },
    {
      "cell_type": "markdown",
      "metadata": {
        "id": "UzpNOOvZh63u"
      },
      "source": [
        "all nan values are removed"
      ]
    },
    {
      "cell_type": "code",
      "metadata": {
        "id": "fB8rnEy2hwwr"
      },
      "source": [
        "#load the model\r\n",
        "fitted_model=pickle.load(open('agriculture_train', 'rb'))"
      ],
      "execution_count": null,
      "outputs": []
    },
    {
      "cell_type": "code",
      "metadata": {
        "colab": {
          "base_uri": "https://localhost:8080/"
        },
        "id": "gt2fmuAtrO2F",
        "outputId": "ef8de800-be52-45df-f791-899bfa3ff15c"
      },
      "source": [
        "fitted_model"
      ],
      "execution_count": null,
      "outputs": [
        {
          "output_type": "execute_result",
          "data": {
            "text/plain": [
              "SVC(C=1, break_ties=False, cache_size=200, class_weight=None, coef0=0.0,\n",
              "    decision_function_shape='ovr', degree=3, gamma='scale', kernel='poly',\n",
              "    max_iter=-1, probability=True, random_state=42, shrinking=True, tol=0.001,\n",
              "    verbose=False)"
            ]
          },
          "metadata": {
            "tags": []
          },
          "execution_count": 84
        }
      ]
    },
    {
      "cell_type": "code",
      "metadata": {
        "id": "2p_kEnKnskM4"
      },
      "source": [
        "#prediction over test data\r\n",
        "predictions = fitted_model.predict(test_ag)"
      ],
      "execution_count": null,
      "outputs": []
    },
    {
      "cell_type": "code",
      "metadata": {
        "id": "iZgTzfOhtBiU"
      },
      "source": [
        "predictions"
      ],
      "execution_count": null,
      "outputs": []
    }
  ]
}